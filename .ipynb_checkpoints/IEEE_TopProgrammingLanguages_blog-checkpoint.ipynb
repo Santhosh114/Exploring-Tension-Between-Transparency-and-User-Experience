{
 "cells": [
  {
   "cell_type": "markdown",
   "metadata": {},
   "source": [
    "# Exploring Tension Between Transparency and User Experience"
   ]
  },
  {
   "cell_type": "markdown",
   "metadata": {},
   "source": [
    "#### Our goal was to measure whether transparency leads to increased trustworthiness. In this case, do participants who were exposed to the transparency features find the app more authoritative and trustworthy compared with those poeple who did not explore the features? And do these transparency features negatively impact user experience?"
   ]
  },
  {
   "cell_type": "code",
   "execution_count": 1,
   "metadata": {
    "collapsed": true
   },
   "outputs": [],
   "source": [
    "import pandas as pd\n",
    "import numpy as np\n",
    "import matplotlib.pyplot as plt\n",
    "from scipy.stats import mannwhitneyu\n",
    "from scipy.stats import ttest_ind\n",
    "\n",
    "%matplotlib inline\n",
    "\n",
    "plt.style.use('ggplot')\n",
    "plt.rcParams['figure.figsize'] = (15, 3)\n",
    "plt.rcParams['font.family'] = 'sans-serif'\n",
    "\n",
    "pd.set_option('display.width', 5000) \n",
    "pd.set_option('display.max_columns', 60)"
   ]
  },
  {
   "cell_type": "markdown",
   "metadata": {},
   "source": [
    "## Data Preparation:"
   ]
  },
  {
   "cell_type": "markdown",
   "metadata": {},
   "source": [
    "### Read in data from Google Sheets:"
   ]
  },
  {
   "cell_type": "code",
   "execution_count": 2,
   "metadata": {
    "collapsed": false
   },
   "outputs": [
    {
     "data": {
      "text/html": [
       "<div>\n",
       "<table border=\"1\" class=\"dataframe\">\n",
       "  <thead>\n",
       "    <tr style=\"text-align: right;\">\n",
       "      <th></th>\n",
       "      <th>Timestamp</th>\n",
       "      <th>Below you will find words that could describe the Top Programming Languages App. On a scale from 1 (not at all) to 5 (a lot) please assess to what extent you think each word applies to the app. [Objective]</th>\n",
       "      <th>Below are various features of the app you may have used. Which did you use or not use? [Select a weighting preset for the ranking (e.g. \"trending\", \"jobs\")]</th>\n",
       "      <th>Below you will find words that could describe the Top Programming Languages App. On a scale from 1 (not at all) to 5 (a lot) please assess to what extent you think each word applies to the app. [Trustworthy]</th>\n",
       "      <th>Below you will find words that could describe the Top Programming Languages App. On a scale from 1 (not at all) to 5 (a lot) please assess to what extent you think each word applies to the app. [Accurate]</th>\n",
       "      <th>Below you will find words that could describe the Top Programming Languages App. On a scale from 1 (not at all) to 5 (a lot) please assess to what extent you think each word applies to the app. [Boring]</th>\n",
       "      <th>Below you will find words that could describe the Top Programming Languages App. On a scale from 1 (not at all) to 5 (a lot) please assess to what extent you think each word applies to the app. [Interesting]</th>\n",
       "      <th>Below you will find words that could describe the Top Programming Languages App. On a scale from 1 (not at all) to 5 (a lot) please assess to what extent you think each word applies to the app. [Pleasant to use]</th>\n",
       "      <th>Below you will find words that could describe the Top Programming Languages App. On a scale from 1 (not at all) to 5 (a lot) please assess to what extent you think each word applies to the app. [Clear]</th>\n",
       "      <th>Below you will find words that could describe the Top Programming Languages App. On a scale from 1 (not at all) to 5 (a lot) please assess to what extent you think each word applies to the app. [Informative]</th>\n",
       "      <th>Below you will find words that could describe the Top Programming Languages App. On a scale from 1 (not at all) to 5 (a lot) please assess to what extent you think each word applies to the app. [Enjoyable]</th>\n",
       "      <th>Below you will find words that could describe the Top Programming Languages App. On a scale from 1 (not at all) to 5 (a lot) please assess to what extent you think each word applies to the app. [Attractive]</th>\n",
       "      <th>Below you will find words that could describe the Top Programming Languages App. On a scale from 1 (not at all) to 5 (a lot) please assess to what extent you think each word applies to the app. [Relevant / Useful]</th>\n",
       "      <th>Below you will find words that could describe the Top Programming Languages App. On a scale from 1 (not at all) to 5 (a lot) please assess to what extent you think each word applies to the app. [Coherent]</th>\n",
       "      <th>Below you will find words that could describe the Top Programming Languages App. On a scale from 1 (not at all) to 5 (a lot) please assess to what extent you think each word applies to the app. [Authoritative]</th>\n",
       "      <th>Below you will find words that could describe the Top Programming Languages App. On a scale from 1 (not at all) to 5 (a lot) please assess to what extent you think each word applies to the app. [Biased]</th>\n",
       "      <th>Below you will find words that could describe the Top Programming Languages App. On a scale from 1 (not at all) to 5 (a lot) please assess to what extent you think each word applies to the app. [Satisfying]</th>\n",
       "      <th>Below are various features of the app you may have used. Which did you use or not use? [Edit a ranking by changing weights or data sources]</th>\n",
       "      <th>Below are various features of the app you may have used. Which did you use or not use? [Compare two rankings]</th>\n",
       "      <th>Below are various features of the app you may have used. Which did you use or not use? [Filter the visible language types (e.g. \"web\", \"mobile\")]</th>\n",
       "      <th>Below are various features of the app you may have used. Which did you use or not use? [Share a custom ranking on social media]</th>\n",
       "      <th>What did you like most about the app?</th>\n",
       "      <th>What did you like least about the app?</th>\n",
       "      <th>Anything else you'd like us to know about your experience using the app?</th>\n",
       "      <th>What year were you born?</th>\n",
       "      <th>Are you male or female?</th>\n",
       "      <th>Below you will find words that could describe the Top Programming Languages App. On a scale from 1 (not at all) to 5 (a lot) please assess to what extent you think each word applies to the app. [Easy to Use]</th>\n",
       "      <th>How many years of professional programming experience do you have?</th>\n",
       "      <th>For the record, what's your favorite programming language?</th>\n",
       "    </tr>\n",
       "  </thead>\n",
       "  <tbody>\n",
       "    <tr>\n",
       "      <th>0</th>\n",
       "      <td>7/15/2015 14:57:04</td>\n",
       "      <td>5 (A lot)</td>\n",
       "      <td>Didn't use</td>\n",
       "      <td>4</td>\n",
       "      <td>4</td>\n",
       "      <td>3</td>\n",
       "      <td>4</td>\n",
       "      <td>4</td>\n",
       "      <td>4</td>\n",
       "      <td>4</td>\n",
       "      <td>4</td>\n",
       "      <td>4</td>\n",
       "      <td>4</td>\n",
       "      <td>4</td>\n",
       "      <td>4</td>\n",
       "      <td>4</td>\n",
       "      <td>4</td>\n",
       "      <td>Didn't use</td>\n",
       "      <td>Didn't use</td>\n",
       "      <td>Didn't use</td>\n",
       "      <td>Didn't use</td>\n",
       "      <td>NaN</td>\n",
       "      <td>NaN</td>\n",
       "      <td>NaN</td>\n",
       "      <td>1976</td>\n",
       "      <td>Female</td>\n",
       "      <td>5 (A lot)</td>\n",
       "      <td>not many</td>\n",
       "      <td>NaN</td>\n",
       "    </tr>\n",
       "    <tr>\n",
       "      <th>1</th>\n",
       "      <td>7/23/2015 16:54:30</td>\n",
       "      <td>2</td>\n",
       "      <td>Used</td>\n",
       "      <td>3</td>\n",
       "      <td>3</td>\n",
       "      <td>3</td>\n",
       "      <td>4</td>\n",
       "      <td>2</td>\n",
       "      <td>4</td>\n",
       "      <td>5 (A lot)</td>\n",
       "      <td>1 (Not at all)</td>\n",
       "      <td>2</td>\n",
       "      <td>5 (A lot)</td>\n",
       "      <td>3</td>\n",
       "      <td>3</td>\n",
       "      <td>3</td>\n",
       "      <td>2</td>\n",
       "      <td>Didn't know it was available</td>\n",
       "      <td>Didn't know it was available</td>\n",
       "      <td>Didn't use</td>\n",
       "      <td>Didn't use</td>\n",
       "      <td>NaN</td>\n",
       "      <td>NaN</td>\n",
       "      <td>NaN</td>\n",
       "      <td>1943</td>\n",
       "      <td>Male</td>\n",
       "      <td>4</td>\n",
       "      <td>30+</td>\n",
       "      <td>NaN</td>\n",
       "    </tr>\n",
       "    <tr>\n",
       "      <th>2</th>\n",
       "      <td>7/25/2015 10:49:39</td>\n",
       "      <td>5 (A lot)</td>\n",
       "      <td>Used</td>\n",
       "      <td>5 (A lot)</td>\n",
       "      <td>5 (A lot)</td>\n",
       "      <td>1 (Not at all)</td>\n",
       "      <td>5 (A lot)</td>\n",
       "      <td>4</td>\n",
       "      <td>5 (A lot)</td>\n",
       "      <td>5 (A lot)</td>\n",
       "      <td>5 (A lot)</td>\n",
       "      <td>4</td>\n",
       "      <td>5 (A lot)</td>\n",
       "      <td>5 (A lot)</td>\n",
       "      <td>5 (A lot)</td>\n",
       "      <td>5 (A lot)</td>\n",
       "      <td>4</td>\n",
       "      <td>Used</td>\n",
       "      <td>Used</td>\n",
       "      <td>Didn't use</td>\n",
       "      <td>Didn't use</td>\n",
       "      <td>NaN</td>\n",
       "      <td>NaN</td>\n",
       "      <td>NaN</td>\n",
       "      <td>1958</td>\n",
       "      <td>Male</td>\n",
       "      <td>5 (A lot)</td>\n",
       "      <td>15</td>\n",
       "      <td>NaN</td>\n",
       "    </tr>\n",
       "  </tbody>\n",
       "</table>\n",
       "</div>"
      ],
      "text/plain": [
       "            Timestamp Below you will find words that could describe the Top Programming Languages App. On a scale from 1 (not at all) to 5 (a lot) please assess to what extent you think each word applies to the app. [Objective] Below are various features of the app you may have used. Which did you use or not use? [Select a weighting preset for the ranking (e.g. \"trending\", \"jobs\")] Below you will find words that could describe the Top Programming Languages App. On a scale from 1 (not at all) to 5 (a lot) please assess to what extent you think each word applies to the app. [Trustworthy] Below you will find words that could describe the Top Programming Languages App. On a scale from 1 (not at all) to 5 (a lot) please assess to what extent you think each word applies to the app. [Accurate] Below you will find words that could describe the Top Programming Languages App. On a scale from 1 (not at all) to 5 (a lot) please assess to what extent you think each word applies to the app. [Boring] Below you will find words that could describe the Top Programming Languages App. On a scale from 1 (not at all) to 5 (a lot) please assess to what extent you think each word applies to the app. [Interesting]  Below you will find words that could describe the Top Programming Languages App. On a scale from 1 (not at all) to 5 (a lot) please assess to what extent you think each word applies to the app. [Pleasant to use] Below you will find words that could describe the Top Programming Languages App. On a scale from 1 (not at all) to 5 (a lot) please assess to what extent you think each word applies to the app. [Clear] Below you will find words that could describe the Top Programming Languages App. On a scale from 1 (not at all) to 5 (a lot) please assess to what extent you think each word applies to the app. [Informative] Below you will find words that could describe the Top Programming Languages App. On a scale from 1 (not at all) to 5 (a lot) please assess to what extent you think each word applies to the app. [Enjoyable]  Below you will find words that could describe the Top Programming Languages App. On a scale from 1 (not at all) to 5 (a lot) please assess to what extent you think each word applies to the app. [Attractive] Below you will find words that could describe the Top Programming Languages App. On a scale from 1 (not at all) to 5 (a lot) please assess to what extent you think each word applies to the app. [Relevant / Useful] Below you will find words that could describe the Top Programming Languages App. On a scale from 1 (not at all) to 5 (a lot) please assess to what extent you think each word applies to the app. [Coherent] Below you will find words that could describe the Top Programming Languages App. On a scale from 1 (not at all) to 5 (a lot) please assess to what extent you think each word applies to the app. [Authoritative] Below you will find words that could describe the Top Programming Languages App. On a scale from 1 (not at all) to 5 (a lot) please assess to what extent you think each word applies to the app. [Biased]  Below you will find words that could describe the Top Programming Languages App. On a scale from 1 (not at all) to 5 (a lot) please assess to what extent you think each word applies to the app. [Satisfying] Below are various features of the app you may have used. Which did you use or not use? [Edit a ranking by changing weights or data sources] Below are various features of the app you may have used. Which did you use or not use? [Compare two rankings] Below are various features of the app you may have used. Which did you use or not use? [Filter the visible language types (e.g. \"web\", \"mobile\")] Below are various features of the app you may have used. Which did you use or not use? [Share a custom ranking on social media]  What did you like most about the app?  What did you like least about the app?  Anything else you'd like us to know about your experience using the app?  What year were you born? Are you male or female? Below you will find words that could describe the Top Programming Languages App. On a scale from 1 (not at all) to 5 (a lot) please assess to what extent you think each word applies to the app. [Easy to Use] How many years of professional programming experience do you have?  For the record, what's your favorite programming language?\n",
       "0  7/15/2015 14:57:04                                          5 (A lot)                                                                                                                                                                                                    Didn't use                                                                                                                                                            4                                                                                                                                                                                                               4                                                                                                                                                                                                            3                                                                                                                                                                                                          4                                                                                                                                                                                                               4                                                                                                                                                                                                                    4                                                                                                                                                                                                         4                                                                                                                                                                                                               4                                                                                                                                                                                                             4                                                                                                                                                                                                               4                                                                                                                                                                                                                     4                                                                                                                                                                                                            4                                                                                                                                                                                                                 4                                                                                                                                                                                                          4                                                                                                                                                                                                      Didn't use                                                                                                                                  Didn't use                                                                                                    Didn't use                                                                                                                                        Didn't use                                                                                                                 NaN                                     NaN                                                NaN                                             1976                  Female                                          5 (A lot)                                                                                                                                                                                                        not many                                                                NaN         \n",
       "1  7/23/2015 16:54:30                                                  2                                                                                                                                                                                                          Used                                                                                                                                                            3                                                                                                                                                                                                               3                                                                                                                                                                                                            3                                                                                                                                                                                                          4                                                                                                                                                                                                               2                                                                                                                                                                                                                    4                                                                                                                                                                                                 5 (A lot)                                                                                                                                                                                                  1 (Not at all)                                                                                                                                                                                                             2                                                                                                                                                                                                       5 (A lot)                                                                                                                                                                                                                     3                                                                                                                                                                                                            3                                                                                                                                                                                                                 3                                                                                                                                                                                                          2                                                                                                                                                                                    Didn't know it was available                                                                                                                Didn't know it was available                                                                                                    Didn't use                                                                                                                                        Didn't use                                                                                                                 NaN                                     NaN                                                NaN                                             1943                    Male                                                  4                                                                                                                                                                                                             30+                                                                NaN         \n",
       "2  7/25/2015 10:49:39                                          5 (A lot)                                                                                                                                                                                                          Used                                                                                                                                                    5 (A lot)                                                                                                                                                                                                       5 (A lot)                                                                                                                                                                                               1 (Not at all)                                                                                                                                                                                                  5 (A lot)                                                                                                                                                                                                               4                                                                                                                                                                                                            5 (A lot)                                                                                                                                                                                                 5 (A lot)                                                                                                                                                                                                       5 (A lot)                                                                                                                                                                                                             4                                                                                                                                                                                                       5 (A lot)                                                                                                                                                                                                             5 (A lot)                                                                                                                                                                                                    5 (A lot)                                                                                                                                                                                                         5 (A lot)                                                                                                                                                                                                          4                                                                                                                                                                                                            Used                                                                                                                                        Used                                                                                                    Didn't use                                                                                                                                        Didn't use                                                                                                                 NaN                                     NaN                                                NaN                                             1958                    Male                                          5 (A lot)                                                                                                                                                                                                              15                                                                NaN         "
      ]
     },
     "execution_count": 2,
     "metadata": {},
     "output_type": "execute_result"
    }
   ],
   "source": [
    "data = pd.read_csv('IEEE_Spectrum_Top_Programming_Languages_Feedback_(Responses)_-_Form_Responses_1.csv', nrows=3)\n",
    "data.head()"
   ]
  },
  {
   "cell_type": "markdown",
   "metadata": {},
   "source": [
    "### What are the columns?"
   ]
  },
  {
   "cell_type": "code",
   "execution_count": 3,
   "metadata": {
    "collapsed": false
   },
   "outputs": [
    {
     "data": {
      "text/plain": [
       "Index(['Timestamp', 'Below you will find words that could describe the Top Programming Languages App. On a scale from 1 (not at all) to 5 (a lot) please assess to what extent you think each word applies to the app. [Objective]', 'Below are various features of the app you may have used. Which did you use or not use? [Select a weighting preset for the ranking (e.g. \"trending\", \"jobs\")]', 'Below you will find words that could describe the Top Programming Languages App. On a scale from 1 (not at all) to 5 (a lot) please assess to what extent you think each word applies to the app. [Trustworthy]', 'Below you will find words that could describe the Top Programming Languages App. On a scale from 1 (not at all) to 5 (a lot) please assess to what extent you think each word applies to the app. [Accurate]', 'Below you will find words that could describe the Top Programming Languages App. On a scale from 1 (not at all) to 5 (a lot) please assess to what extent you think each word applies to the app. [Boring]', 'Below you will find words that could describe the Top Programming Languages App. On a scale from 1 (not at all) to 5 (a lot) please assess to what extent you think each word applies to the app. [Interesting]', 'Below you will find words that could describe the Top Programming Languages App. On a scale from 1 (not at all) to 5 (a lot) please assess to what extent you think each word applies to the app. [Pleasant to use]', 'Below you will find words that could describe the Top Programming Languages App. On a scale from 1 (not at all) to 5 (a lot) please assess to what extent you think each word applies to the app. [Clear]', 'Below you will find words that could describe the Top Programming Languages App. On a scale from 1 (not at all) to 5 (a lot) please assess to what extent you think each word applies to the app. [Informative]', 'Below you will find words that could describe the Top Programming Languages App. On a scale from 1 (not at all) to 5 (a lot) please assess to what extent you think each word applies to the app. [Enjoyable]', 'Below you will find words that could describe the Top Programming Languages App. On a scale from 1 (not at all) to 5 (a lot) please assess to what extent you think each word applies to the app. [Attractive]', 'Below you will find words that could describe the Top Programming Languages App. On a scale from 1 (not at all) to 5 (a lot) please assess to what extent you think each word applies to the app. [Relevant / Useful]', 'Below you will find words that could describe the Top Programming Languages App. On a scale from 1 (not at all) to 5 (a lot) please assess to what extent you think each word applies to the app. [Coherent]', 'Below you will find words that could describe the Top Programming Languages App. On a scale from 1 (not at all) to 5 (a lot) please assess to what extent you think each word applies to the app. [Authoritative]', 'Below you will find words that could describe the Top Programming Languages App. On a scale from 1 (not at all) to 5 (a lot) please assess to what extent you think each word applies to the app. [Biased]', 'Below you will find words that could describe the Top Programming Languages App. On a scale from 1 (not at all) to 5 (a lot) please assess to what extent you think each word applies to the app. [Satisfying]', 'Below are various features of the app you may have used. Which did you use or not use? [Edit a ranking by changing weights or data sources]', 'Below are various features of the app you may have used. Which did you use or not use? [Compare two rankings]', 'Below are various features of the app you may have used. Which did you use or not use? [Filter the visible language types (e.g. \"web\", \"mobile\")]', 'Below are various features of the app you may have used. Which did you use or not use? [Share a custom ranking on social media]', 'What did you like most about the app?', 'What did you like least about the app?', 'Anything else you'd like us to know about your experience using the app?', 'What year were you born?', 'Are you male or female?', 'Below you will find words that could describe the Top Programming Languages App. On a scale from 1 (not at all) to 5 (a lot) please assess to what extent you think each word applies to the app. [Easy to Use]', 'How many years of professional programming experience do you have?', 'For the record, what's your favorite programming language?'], dtype='object')"
      ]
     },
     "execution_count": 3,
     "metadata": {},
     "output_type": "execute_result"
    }
   ],
   "source": [
    "data.columns"
   ]
  },
  {
   "cell_type": "markdown",
   "metadata": {},
   "source": [
    "### Load only selected columns"
   ]
  },
  {
   "cell_type": "code",
   "execution_count": 4,
   "metadata": {
    "collapsed": true
   },
   "outputs": [],
   "source": [
    "cols = ['Below you will find words that could describe the Top Programming Languages App. On a scale from 1 (not at all) to 5 (a lot) please assess to what extent you think each word applies to the app. [Objective]',\n",
    "       'Below are various features of the app you may have used. Which did you use or not use? [Select a weighting preset for the ranking (e.g. \"trending\", \"jobs\")]',\n",
    "       'Below you will find words that could describe the Top Programming Languages App. On a scale from 1 (not at all) to 5 (a lot) please assess to what extent you think each word applies to the app. [Trustworthy]',\n",
    "       'Below you will find words that could describe the Top Programming Languages App. On a scale from 1 (not at all) to 5 (a lot) please assess to what extent you think each word applies to the app. [Accurate]',\n",
    "       'Below you will find words that could describe the Top Programming Languages App. On a scale from 1 (not at all) to 5 (a lot) please assess to what extent you think each word applies to the app. [Boring]',\n",
    "       'Below you will find words that could describe the Top Programming Languages App. On a scale from 1 (not at all) to 5 (a lot) please assess to what extent you think each word applies to the app. [Interesting]',\n",
    "       'Below you will find words that could describe the Top Programming Languages App. On a scale from 1 (not at all) to 5 (a lot) please assess to what extent you think each word applies to the app. [Pleasant to use]',\n",
    "       'Below you will find words that could describe the Top Programming Languages App. On a scale from 1 (not at all) to 5 (a lot) please assess to what extent you think each word applies to the app. [Clear]',\n",
    "       'Below you will find words that could describe the Top Programming Languages App. On a scale from 1 (not at all) to 5 (a lot) please assess to what extent you think each word applies to the app. [Informative]',\n",
    "       'Below you will find words that could describe the Top Programming Languages App. On a scale from 1 (not at all) to 5 (a lot) please assess to what extent you think each word applies to the app. [Enjoyable]',\n",
    "       'Below you will find words that could describe the Top Programming Languages App. On a scale from 1 (not at all) to 5 (a lot) please assess to what extent you think each word applies to the app. [Attractive]',\n",
    "       'Below you will find words that could describe the Top Programming Languages App. On a scale from 1 (not at all) to 5 (a lot) please assess to what extent you think each word applies to the app. [Relevant / Useful]',\n",
    "       'Below you will find words that could describe the Top Programming Languages App. On a scale from 1 (not at all) to 5 (a lot) please assess to what extent you think each word applies to the app. [Coherent]',\n",
    "       'Below you will find words that could describe the Top Programming Languages App. On a scale from 1 (not at all) to 5 (a lot) please assess to what extent you think each word applies to the app. [Authoritative]',\n",
    "       'Below you will find words that could describe the Top Programming Languages App. On a scale from 1 (not at all) to 5 (a lot) please assess to what extent you think each word applies to the app. [Biased]',\n",
    "       'Below you will find words that could describe the Top Programming Languages App. On a scale from 1 (not at all) to 5 (a lot) please assess to what extent you think each word applies to the app. [Satisfying]',\n",
    "       'Below are various features of the app you may have used. Which did you use or not use? [Edit a ranking by changing weights or data sources]',\n",
    "       'Below are various features of the app you may have used. Which did you use or not use? [Compare two rankings]',\n",
    "       'Below are various features of the app you may have used. Which did you use or not use? [Filter the visible language types (e.g. \"web\", \"mobile\")]',\n",
    "       'What year were you born?', 'Are you male or female?',\n",
    "       'Below you will find words that could describe the Top Programming Languages App. On a scale from 1 (not at all) to 5 (a lot) please assess to what extent you think each word applies to the app. [Easy to Use]',\n",
    "       'How many years of professional programming experience do you have?']"
   ]
  },
  {
   "cell_type": "code",
   "execution_count": 5,
   "metadata": {
    "collapsed": false
   },
   "outputs": [],
   "source": [
    "data = pd.read_csv('IEEE_Spectrum_Top_Programming_Languages_Feedback_(Responses)_-_Form_Responses_1.csv', skiprows=[1], usecols=cols)  #skip 1st row which was our test row"
   ]
  },
  {
   "cell_type": "code",
   "execution_count": 6,
   "metadata": {
    "collapsed": false
   },
   "outputs": [
    {
     "data": {
      "text/html": [
       "<div>\n",
       "<table border=\"1\" class=\"dataframe\">\n",
       "  <thead>\n",
       "    <tr style=\"text-align: right;\">\n",
       "      <th></th>\n",
       "      <th>Below you will find words that could describe the Top Programming Languages App. On a scale from 1 (not at all) to 5 (a lot) please assess to what extent you think each word applies to the app. [Objective]</th>\n",
       "      <th>Below are various features of the app you may have used. Which did you use or not use? [Select a weighting preset for the ranking (e.g. \"trending\", \"jobs\")]</th>\n",
       "      <th>Below you will find words that could describe the Top Programming Languages App. On a scale from 1 (not at all) to 5 (a lot) please assess to what extent you think each word applies to the app. [Trustworthy]</th>\n",
       "      <th>Below you will find words that could describe the Top Programming Languages App. On a scale from 1 (not at all) to 5 (a lot) please assess to what extent you think each word applies to the app. [Accurate]</th>\n",
       "      <th>Below you will find words that could describe the Top Programming Languages App. On a scale from 1 (not at all) to 5 (a lot) please assess to what extent you think each word applies to the app. [Boring]</th>\n",
       "      <th>Below you will find words that could describe the Top Programming Languages App. On a scale from 1 (not at all) to 5 (a lot) please assess to what extent you think each word applies to the app. [Interesting]</th>\n",
       "      <th>Below you will find words that could describe the Top Programming Languages App. On a scale from 1 (not at all) to 5 (a lot) please assess to what extent you think each word applies to the app. [Pleasant to use]</th>\n",
       "      <th>Below you will find words that could describe the Top Programming Languages App. On a scale from 1 (not at all) to 5 (a lot) please assess to what extent you think each word applies to the app. [Clear]</th>\n",
       "      <th>Below you will find words that could describe the Top Programming Languages App. On a scale from 1 (not at all) to 5 (a lot) please assess to what extent you think each word applies to the app. [Informative]</th>\n",
       "      <th>Below you will find words that could describe the Top Programming Languages App. On a scale from 1 (not at all) to 5 (a lot) please assess to what extent you think each word applies to the app. [Enjoyable]</th>\n",
       "      <th>Below you will find words that could describe the Top Programming Languages App. On a scale from 1 (not at all) to 5 (a lot) please assess to what extent you think each word applies to the app. [Attractive]</th>\n",
       "      <th>Below you will find words that could describe the Top Programming Languages App. On a scale from 1 (not at all) to 5 (a lot) please assess to what extent you think each word applies to the app. [Relevant / Useful]</th>\n",
       "      <th>Below you will find words that could describe the Top Programming Languages App. On a scale from 1 (not at all) to 5 (a lot) please assess to what extent you think each word applies to the app. [Coherent]</th>\n",
       "      <th>Below you will find words that could describe the Top Programming Languages App. On a scale from 1 (not at all) to 5 (a lot) please assess to what extent you think each word applies to the app. [Authoritative]</th>\n",
       "      <th>Below you will find words that could describe the Top Programming Languages App. On a scale from 1 (not at all) to 5 (a lot) please assess to what extent you think each word applies to the app. [Biased]</th>\n",
       "      <th>Below you will find words that could describe the Top Programming Languages App. On a scale from 1 (not at all) to 5 (a lot) please assess to what extent you think each word applies to the app. [Satisfying]</th>\n",
       "      <th>Below are various features of the app you may have used. Which did you use or not use? [Edit a ranking by changing weights or data sources]</th>\n",
       "      <th>Below are various features of the app you may have used. Which did you use or not use? [Compare two rankings]</th>\n",
       "      <th>Below are various features of the app you may have used. Which did you use or not use? [Filter the visible language types (e.g. \"web\", \"mobile\")]</th>\n",
       "      <th>What year were you born?</th>\n",
       "      <th>Are you male or female?</th>\n",
       "      <th>Below you will find words that could describe the Top Programming Languages App. On a scale from 1 (not at all) to 5 (a lot) please assess to what extent you think each word applies to the app. [Easy to Use]</th>\n",
       "      <th>How many years of professional programming experience do you have?</th>\n",
       "    </tr>\n",
       "  </thead>\n",
       "  <tbody>\n",
       "    <tr>\n",
       "      <th>0</th>\n",
       "      <td>2</td>\n",
       "      <td>Used</td>\n",
       "      <td>3</td>\n",
       "      <td>3</td>\n",
       "      <td>3</td>\n",
       "      <td>4</td>\n",
       "      <td>2</td>\n",
       "      <td>4</td>\n",
       "      <td>5 (A lot)</td>\n",
       "      <td>1 (Not at all)</td>\n",
       "      <td>2</td>\n",
       "      <td>5 (A lot)</td>\n",
       "      <td>3</td>\n",
       "      <td>3</td>\n",
       "      <td>3</td>\n",
       "      <td>2</td>\n",
       "      <td>Didn't know it was available</td>\n",
       "      <td>Didn't know it was available</td>\n",
       "      <td>Didn't use</td>\n",
       "      <td>1943</td>\n",
       "      <td>Male</td>\n",
       "      <td>4</td>\n",
       "      <td>30+</td>\n",
       "    </tr>\n",
       "    <tr>\n",
       "      <th>1</th>\n",
       "      <td>5 (A lot)</td>\n",
       "      <td>Used</td>\n",
       "      <td>5 (A lot)</td>\n",
       "      <td>5 (A lot)</td>\n",
       "      <td>1 (Not at all)</td>\n",
       "      <td>5 (A lot)</td>\n",
       "      <td>4</td>\n",
       "      <td>5 (A lot)</td>\n",
       "      <td>5 (A lot)</td>\n",
       "      <td>5 (A lot)</td>\n",
       "      <td>4</td>\n",
       "      <td>5 (A lot)</td>\n",
       "      <td>5 (A lot)</td>\n",
       "      <td>5 (A lot)</td>\n",
       "      <td>5 (A lot)</td>\n",
       "      <td>4</td>\n",
       "      <td>Used</td>\n",
       "      <td>Used</td>\n",
       "      <td>Didn't use</td>\n",
       "      <td>1958</td>\n",
       "      <td>Male</td>\n",
       "      <td>5 (A lot)</td>\n",
       "      <td>15</td>\n",
       "    </tr>\n",
       "    <tr>\n",
       "      <th>2</th>\n",
       "      <td>1 (Not at all)</td>\n",
       "      <td>NaN</td>\n",
       "      <td>NaN</td>\n",
       "      <td>NaN</td>\n",
       "      <td>NaN</td>\n",
       "      <td>NaN</td>\n",
       "      <td>NaN</td>\n",
       "      <td>NaN</td>\n",
       "      <td>1 (Not at all)</td>\n",
       "      <td>1 (Not at all)</td>\n",
       "      <td>NaN</td>\n",
       "      <td>3</td>\n",
       "      <td>NaN</td>\n",
       "      <td>NaN</td>\n",
       "      <td>NaN</td>\n",
       "      <td>NaN</td>\n",
       "      <td>NaN</td>\n",
       "      <td>NaN</td>\n",
       "      <td>NaN</td>\n",
       "      <td>NaN</td>\n",
       "      <td>NaN</td>\n",
       "      <td>2</td>\n",
       "      <td>4</td>\n",
       "    </tr>\n",
       "    <tr>\n",
       "      <th>3</th>\n",
       "      <td>4</td>\n",
       "      <td>Used</td>\n",
       "      <td>4</td>\n",
       "      <td>4</td>\n",
       "      <td>2</td>\n",
       "      <td>5 (A lot)</td>\n",
       "      <td>5 (A lot)</td>\n",
       "      <td>5 (A lot)</td>\n",
       "      <td>4</td>\n",
       "      <td>3</td>\n",
       "      <td>4</td>\n",
       "      <td>3</td>\n",
       "      <td>4</td>\n",
       "      <td>4</td>\n",
       "      <td>3</td>\n",
       "      <td>4</td>\n",
       "      <td>Used</td>\n",
       "      <td>Didn't know it was available</td>\n",
       "      <td>Used</td>\n",
       "      <td>1972</td>\n",
       "      <td>Male</td>\n",
       "      <td>5 (A lot)</td>\n",
       "      <td>18</td>\n",
       "    </tr>\n",
       "    <tr>\n",
       "      <th>4</th>\n",
       "      <td>4</td>\n",
       "      <td>Used</td>\n",
       "      <td>5 (A lot)</td>\n",
       "      <td>4</td>\n",
       "      <td>1 (Not at all)</td>\n",
       "      <td>5 (A lot)</td>\n",
       "      <td>4</td>\n",
       "      <td>5 (A lot)</td>\n",
       "      <td>5 (A lot)</td>\n",
       "      <td>5 (A lot)</td>\n",
       "      <td>4</td>\n",
       "      <td>4</td>\n",
       "      <td>3</td>\n",
       "      <td>5 (A lot)</td>\n",
       "      <td>2</td>\n",
       "      <td>5 (A lot)</td>\n",
       "      <td>Didn't use</td>\n",
       "      <td>Used</td>\n",
       "      <td>Used</td>\n",
       "      <td>1968</td>\n",
       "      <td>Male</td>\n",
       "      <td>5 (A lot)</td>\n",
       "      <td>20</td>\n",
       "    </tr>\n",
       "  </tbody>\n",
       "</table>\n",
       "</div>"
      ],
      "text/plain": [
       "  Below you will find words that could describe the Top Programming Languages App. On a scale from 1 (not at all) to 5 (a lot) please assess to what extent you think each word applies to the app. [Objective] Below are various features of the app you may have used. Which did you use or not use? [Select a weighting preset for the ranking (e.g. \"trending\", \"jobs\")] Below you will find words that could describe the Top Programming Languages App. On a scale from 1 (not at all) to 5 (a lot) please assess to what extent you think each word applies to the app. [Trustworthy] Below you will find words that could describe the Top Programming Languages App. On a scale from 1 (not at all) to 5 (a lot) please assess to what extent you think each word applies to the app. [Accurate] Below you will find words that could describe the Top Programming Languages App. On a scale from 1 (not at all) to 5 (a lot) please assess to what extent you think each word applies to the app. [Boring] Below you will find words that could describe the Top Programming Languages App. On a scale from 1 (not at all) to 5 (a lot) please assess to what extent you think each word applies to the app. [Interesting] Below you will find words that could describe the Top Programming Languages App. On a scale from 1 (not at all) to 5 (a lot) please assess to what extent you think each word applies to the app. [Pleasant to use] Below you will find words that could describe the Top Programming Languages App. On a scale from 1 (not at all) to 5 (a lot) please assess to what extent you think each word applies to the app. [Clear] Below you will find words that could describe the Top Programming Languages App. On a scale from 1 (not at all) to 5 (a lot) please assess to what extent you think each word applies to the app. [Informative] Below you will find words that could describe the Top Programming Languages App. On a scale from 1 (not at all) to 5 (a lot) please assess to what extent you think each word applies to the app. [Enjoyable] Below you will find words that could describe the Top Programming Languages App. On a scale from 1 (not at all) to 5 (a lot) please assess to what extent you think each word applies to the app. [Attractive] Below you will find words that could describe the Top Programming Languages App. On a scale from 1 (not at all) to 5 (a lot) please assess to what extent you think each word applies to the app. [Relevant / Useful] Below you will find words that could describe the Top Programming Languages App. On a scale from 1 (not at all) to 5 (a lot) please assess to what extent you think each word applies to the app. [Coherent] Below you will find words that could describe the Top Programming Languages App. On a scale from 1 (not at all) to 5 (a lot) please assess to what extent you think each word applies to the app. [Authoritative] Below you will find words that could describe the Top Programming Languages App. On a scale from 1 (not at all) to 5 (a lot) please assess to what extent you think each word applies to the app. [Biased] Below you will find words that could describe the Top Programming Languages App. On a scale from 1 (not at all) to 5 (a lot) please assess to what extent you think each word applies to the app. [Satisfying] Below are various features of the app you may have used. Which did you use or not use? [Edit a ranking by changing weights or data sources] Below are various features of the app you may have used. Which did you use or not use? [Compare two rankings] Below are various features of the app you may have used. Which did you use or not use? [Filter the visible language types (e.g. \"web\", \"mobile\")] What year were you born? Are you male or female? Below you will find words that could describe the Top Programming Languages App. On a scale from 1 (not at all) to 5 (a lot) please assess to what extent you think each word applies to the app. [Easy to Use] How many years of professional programming experience do you have?\n",
       "0                                                  2                                                                                                                                                                                                          Used                                                                                                                                                            3                                                                                                                                                                                                               3                                                                                                                                                                                                            3                                                                                                                                                                                                          4                                                                                                                                                                                                               2                                                                                                                                                                                                                   4                                                                                                                                                                                                 5 (A lot)                                                                                                                                                                                                  1 (Not at all)                                                                                                                                                                                                             2                                                                                                                                                                                                      5 (A lot)                                                                                                                                                                                                                     3                                                                                                                                                                                                            3                                                                                                                                                                                                                 3                                                                                                                                                                                                          2                                                                                                                                                                                   Didn't know it was available                                                                                                                Didn't know it was available                                                                                                    Didn't use                                                                                                                    1943                    Male                                                  4                                                                                                                                                                                                             30+                \n",
       "1                                          5 (A lot)                                                                                                                                                                                                          Used                                                                                                                                                    5 (A lot)                                                                                                                                                                                                       5 (A lot)                                                                                                                                                                                               1 (Not at all)                                                                                                                                                                                                  5 (A lot)                                                                                                                                                                                                               4                                                                                                                                                                                                           5 (A lot)                                                                                                                                                                                                 5 (A lot)                                                                                                                                                                                                       5 (A lot)                                                                                                                                                                                                             4                                                                                                                                                                                                      5 (A lot)                                                                                                                                                                                                             5 (A lot)                                                                                                                                                                                                    5 (A lot)                                                                                                                                                                                                         5 (A lot)                                                                                                                                                                                                          4                                                                                                                                                                                                           Used                                                                                                                                        Used                                                                                                    Didn't use                                                                                                                    1958                    Male                                          5 (A lot)                                                                                                                                                                                                              15                \n",
       "2                                     1 (Not at all)                                                                                                                                                                                                           NaN                                                                                                                                                          NaN                                                                                                                                                                                                             NaN                                                                                                                                                                                                          NaN                                                                                                                                                                                                        NaN                                                                                                                                                                                                             NaN                                                                                                                                                                                                                 NaN                                                                                                                                                                                            1 (Not at all)                                                                                                                                                                                                  1 (Not at all)                                                                                                                                                                                                           NaN                                                                                                                                                                                                              3                                                                                                                                                                                                                   NaN                                                                                                                                                                                                          NaN                                                                                                                                                                                                               NaN                                                                                                                                                                                                        NaN                                                                                                                                                                                                            NaN                                                                                                                                         NaN                                                                                                           NaN                                                                                                                     NaN                     NaN                                                  2                                                                                                                                                                                                               4                \n",
       "3                                                  4                                                                                                                                                                                                          Used                                                                                                                                                            4                                                                                                                                                                                                               4                                                                                                                                                                                                            2                                                                                                                                                                                                  5 (A lot)                                                                                                                                                                                                       5 (A lot)                                                                                                                                                                                                           5 (A lot)                                                                                                                                                                                                         4                                                                                                                                                                                                               3                                                                                                                                                                                                             4                                                                                                                                                                                                              3                                                                                                                                                                                                                     4                                                                                                                                                                                                            4                                                                                                                                                                                                                 3                                                                                                                                                                                                          4                                                                                                                                                                                                           Used                                                                                                                Didn't know it was available                                                                                                          Used                                                                                                                    1972                    Male                                          5 (A lot)                                                                                                                                                                                                              18                \n",
       "4                                                  4                                                                                                                                                                                                          Used                                                                                                                                                    5 (A lot)                                                                                                                                                                                                               4                                                                                                                                                                                               1 (Not at all)                                                                                                                                                                                                  5 (A lot)                                                                                                                                                                                                               4                                                                                                                                                                                                           5 (A lot)                                                                                                                                                                                                 5 (A lot)                                                                                                                                                                                                       5 (A lot)                                                                                                                                                                                                             4                                                                                                                                                                                                              4                                                                                                                                                                                                                     3                                                                                                                                                                                                    5 (A lot)                                                                                                                                                                                                                 2                                                                                                                                                                                                  5 (A lot)                                                                                                                                                                                                     Didn't use                                                                                                                                        Used                                                                                                          Used                                                                                                                    1968                    Male                                          5 (A lot)                                                                                                                                                                                                              20                "
      ]
     },
     "execution_count": 6,
     "metadata": {},
     "output_type": "execute_result"
    }
   ],
   "source": [
    "data.head()"
   ]
  },
  {
   "cell_type": "markdown",
   "metadata": {},
   "source": [
    "### Rename Cols"
   ]
  },
  {
   "cell_type": "code",
   "execution_count": 7,
   "metadata": {
    "collapsed": true
   },
   "outputs": [],
   "source": [
    "cols = ['Objective',\n",
    "       'Select weighting preset for ranking',\n",
    "       'Trustworthy',\n",
    "       'Accurate',\n",
    "       'Boring',\n",
    "       'Interesting',\n",
    "       'Pleasant to use',\n",
    "       'Clear',\n",
    "       'Informative',\n",
    "       'Enjoyable',\n",
    "       'Attractive',\n",
    "       'Relevant useful',\n",
    "       'Coherent',\n",
    "       'Authoritative',\n",
    "       'Biased',\n",
    "       'Satisfying',\n",
    "       'Edit ranking weights or data sources',\n",
    "       'Compare two rankings',\n",
    "       'Filter visible language types WebMobile',\n",
    "       'DOB', \n",
    "        'Gender',\n",
    "       'Easy to Use',\n",
    "       'years professional programming experience']"
   ]
  },
  {
   "cell_type": "code",
   "execution_count": 8,
   "metadata": {
    "collapsed": false
   },
   "outputs": [],
   "source": [
    "data.columns = cols"
   ]
  },
  {
   "cell_type": "markdown",
   "metadata": {},
   "source": [
    "### Add underscores between words"
   ]
  },
  {
   "cell_type": "code",
   "execution_count": 9,
   "metadata": {
    "collapsed": false
   },
   "outputs": [],
   "source": [
    "data.columns = data.columns.str.strip().str.replace(' ', '_')"
   ]
  },
  {
   "cell_type": "markdown",
   "metadata": {},
   "source": [
    "### Replace Likert scale text with numbers & shortern text responses to whether a transparency feature was interacted with/known about. "
   ]
  },
  {
   "cell_type": "code",
   "execution_count": 10,
   "metadata": {
    "collapsed": false
   },
   "outputs": [],
   "source": [
    "data.replace(to_replace=\"5 (A lot)\", value=5, inplace=True)\n",
    "data.replace(to_replace=\"1 (Not at all)\", value=1, inplace=True)\n",
    "\n",
    "data.replace(to_replace=\"Didn't use\", value='Not_Used', inplace=True)\n",
    "data.replace(to_replace=\"Didn't know it was available\", value='Not_Know', inplace=True)"
   ]
  },
  {
   "cell_type": "markdown",
   "metadata": {},
   "source": [
    "### Remove rows where participants chose to write _place_ of birth, rather than _date_ of birth, as this casts doubt on the validity of other responses by the person."
   ]
  },
  {
   "cell_type": "code",
   "execution_count": 11,
   "metadata": {
    "collapsed": false
   },
   "outputs": [
    {
     "data": {
      "text/plain": [
       "str"
      ]
     },
     "execution_count": 11,
     "metadata": {},
     "output_type": "execute_result"
    }
   ],
   "source": [
    "type(data.DOB[0])"
   ]
  },
  {
   "cell_type": "code",
   "execution_count": 12,
   "metadata": {
    "collapsed": false
   },
   "outputs": [
    {
     "data": {
      "text/plain": [
       "array(['1943', '1958', nan, '1972', '1968', '1942', '1970', 'New Jersey',\n",
       "       '1985', '1984', '1946', '1969', '1959', '1987', '1975', '1962',\n",
       "       '1980', '1991', '1961', '1993', 'United State', '1997', '1973',\n",
       "       'USA', '1981', '1988', '1989', 'Turkey', '1994', '1978', '1976',\n",
       "       '1974', '1983', '1990', '1992', '2001', '1954', 'Venezuela', 'uk',\n",
       "       'Brazil', '1996', 'n', 'Norrköping Sweden', '1963', '1966', '1971',\n",
       "       '1964', '1982', 'TN', '1955', '1979', '92', '1960', '1948', '2015',\n",
       "       '1945', 'Italy', '1952', '1977', '1965', 'London', '1967', 'India',\n",
       "       'Switzerland', '1986', 'Mauritania', 'Poland',\n",
       "       'see problem report below under years of experience!!', '2000',\n",
       "       '1944', 'Brno ', 'january 30, 1975', '1950', '1995',\n",
       "       'am a a Software developer', 'turkey', 'Cairo', '1956'], dtype=object)"
      ]
     },
     "execution_count": 12,
     "metadata": {},
     "output_type": "execute_result"
    }
   ],
   "source": [
    "data.DOB.unique()"
   ]
  },
  {
   "cell_type": "markdown",
   "metadata": {},
   "source": [
    "#### First, change empty fields to digit 0 (empty fields are ok - we want to keep those)"
   ]
  },
  {
   "cell_type": "code",
   "execution_count": 13,
   "metadata": {
    "collapsed": false
   },
   "outputs": [],
   "source": [
    "data.DOB.replace(to_replace=np.nan, value='0', inplace=True)\n",
    "data.DOB.replace(to_replace='january 30, 1975', value='1975', inplace=True)"
   ]
  },
  {
   "cell_type": "markdown",
   "metadata": {},
   "source": [
    "#### With correctly input dates, and empty fields now containing 0, we can keep only those rows where DOB is a digit:"
   ]
  },
  {
   "cell_type": "code",
   "execution_count": 14,
   "metadata": {
    "collapsed": false
   },
   "outputs": [
    {
     "data": {
      "text/plain": [
       "(203, 23)"
      ]
     },
     "execution_count": 14,
     "metadata": {},
     "output_type": "execute_result"
    }
   ],
   "source": [
    "data.shape"
   ]
  },
  {
   "cell_type": "code",
   "execution_count": 15,
   "metadata": {
    "collapsed": false
   },
   "outputs": [
    {
     "data": {
      "text/html": [
       "<div>\n",
       "<table border=\"1\" class=\"dataframe\">\n",
       "  <thead>\n",
       "    <tr style=\"text-align: right;\">\n",
       "      <th></th>\n",
       "      <th>Objective</th>\n",
       "      <th>Select_weighting_preset_for_ranking</th>\n",
       "      <th>Trustworthy</th>\n",
       "      <th>Accurate</th>\n",
       "      <th>Boring</th>\n",
       "      <th>Interesting</th>\n",
       "      <th>Pleasant_to_use</th>\n",
       "      <th>Clear</th>\n",
       "      <th>Informative</th>\n",
       "      <th>Enjoyable</th>\n",
       "      <th>Attractive</th>\n",
       "      <th>Relevant_useful</th>\n",
       "      <th>Coherent</th>\n",
       "      <th>Authoritative</th>\n",
       "      <th>Biased</th>\n",
       "      <th>Satisfying</th>\n",
       "      <th>Edit_ranking_weights_or_data_sources</th>\n",
       "      <th>Compare_two_rankings</th>\n",
       "      <th>Filter_visible_language_types_WebMobile</th>\n",
       "      <th>DOB</th>\n",
       "      <th>Gender</th>\n",
       "      <th>Easy_to_Use</th>\n",
       "      <th>years_professional_programming_experience</th>\n",
       "    </tr>\n",
       "  </thead>\n",
       "  <tbody>\n",
       "    <tr>\n",
       "      <th>0</th>\n",
       "      <td>2</td>\n",
       "      <td>Used</td>\n",
       "      <td>3</td>\n",
       "      <td>3</td>\n",
       "      <td>3</td>\n",
       "      <td>4</td>\n",
       "      <td>2</td>\n",
       "      <td>4</td>\n",
       "      <td>5</td>\n",
       "      <td>1</td>\n",
       "      <td>2</td>\n",
       "      <td>5</td>\n",
       "      <td>3</td>\n",
       "      <td>3</td>\n",
       "      <td>3</td>\n",
       "      <td>2</td>\n",
       "      <td>Not_Know</td>\n",
       "      <td>Not_Know</td>\n",
       "      <td>Not_Used</td>\n",
       "      <td>1943</td>\n",
       "      <td>Male</td>\n",
       "      <td>4</td>\n",
       "      <td>30+</td>\n",
       "    </tr>\n",
       "    <tr>\n",
       "      <th>1</th>\n",
       "      <td>5</td>\n",
       "      <td>Used</td>\n",
       "      <td>5</td>\n",
       "      <td>5</td>\n",
       "      <td>1</td>\n",
       "      <td>5</td>\n",
       "      <td>4</td>\n",
       "      <td>5</td>\n",
       "      <td>5</td>\n",
       "      <td>5</td>\n",
       "      <td>4</td>\n",
       "      <td>5</td>\n",
       "      <td>5</td>\n",
       "      <td>5</td>\n",
       "      <td>5</td>\n",
       "      <td>4</td>\n",
       "      <td>Used</td>\n",
       "      <td>Used</td>\n",
       "      <td>Not_Used</td>\n",
       "      <td>1958</td>\n",
       "      <td>Male</td>\n",
       "      <td>5</td>\n",
       "      <td>15</td>\n",
       "    </tr>\n",
       "    <tr>\n",
       "      <th>2</th>\n",
       "      <td>1</td>\n",
       "      <td>NaN</td>\n",
       "      <td>NaN</td>\n",
       "      <td>NaN</td>\n",
       "      <td>NaN</td>\n",
       "      <td>NaN</td>\n",
       "      <td>NaN</td>\n",
       "      <td>NaN</td>\n",
       "      <td>1</td>\n",
       "      <td>1</td>\n",
       "      <td>NaN</td>\n",
       "      <td>3</td>\n",
       "      <td>NaN</td>\n",
       "      <td>NaN</td>\n",
       "      <td>NaN</td>\n",
       "      <td>NaN</td>\n",
       "      <td>NaN</td>\n",
       "      <td>NaN</td>\n",
       "      <td>NaN</td>\n",
       "      <td>0</td>\n",
       "      <td>NaN</td>\n",
       "      <td>2</td>\n",
       "      <td>4</td>\n",
       "    </tr>\n",
       "    <tr>\n",
       "      <th>3</th>\n",
       "      <td>4</td>\n",
       "      <td>Used</td>\n",
       "      <td>4</td>\n",
       "      <td>4</td>\n",
       "      <td>2</td>\n",
       "      <td>5</td>\n",
       "      <td>5</td>\n",
       "      <td>5</td>\n",
       "      <td>4</td>\n",
       "      <td>3</td>\n",
       "      <td>4</td>\n",
       "      <td>3</td>\n",
       "      <td>4</td>\n",
       "      <td>4</td>\n",
       "      <td>3</td>\n",
       "      <td>4</td>\n",
       "      <td>Used</td>\n",
       "      <td>Not_Know</td>\n",
       "      <td>Used</td>\n",
       "      <td>1972</td>\n",
       "      <td>Male</td>\n",
       "      <td>5</td>\n",
       "      <td>18</td>\n",
       "    </tr>\n",
       "    <tr>\n",
       "      <th>4</th>\n",
       "      <td>4</td>\n",
       "      <td>Used</td>\n",
       "      <td>5</td>\n",
       "      <td>4</td>\n",
       "      <td>1</td>\n",
       "      <td>5</td>\n",
       "      <td>4</td>\n",
       "      <td>5</td>\n",
       "      <td>5</td>\n",
       "      <td>5</td>\n",
       "      <td>4</td>\n",
       "      <td>4</td>\n",
       "      <td>3</td>\n",
       "      <td>5</td>\n",
       "      <td>2</td>\n",
       "      <td>5</td>\n",
       "      <td>Not_Used</td>\n",
       "      <td>Used</td>\n",
       "      <td>Used</td>\n",
       "      <td>1968</td>\n",
       "      <td>Male</td>\n",
       "      <td>5</td>\n",
       "      <td>20</td>\n",
       "    </tr>\n",
       "  </tbody>\n",
       "</table>\n",
       "</div>"
      ],
      "text/plain": [
       "  Objective Select_weighting_preset_for_ranking Trustworthy Accurate Boring Interesting Pleasant_to_use Clear Informative Enjoyable Attractive Relevant_useful Coherent Authoritative Biased Satisfying Edit_ranking_weights_or_data_sources Compare_two_rankings Filter_visible_language_types_WebMobile   DOB Gender Easy_to_Use years_professional_programming_experience\n",
       "0         2                                Used           3        3      3           4               2     4           5         1          2               5        3             3      3          2                             Not_Know             Not_Know                                Not_Used  1943   Male           4                                       30+\n",
       "1         5                                Used           5        5      1           5               4     5           5         5          4               5        5             5      5          4                                 Used                 Used                                Not_Used  1958   Male           5                                        15\n",
       "2         1                                 NaN         NaN      NaN    NaN         NaN             NaN   NaN           1         1        NaN               3      NaN           NaN    NaN        NaN                                  NaN                  NaN                                     NaN     0    NaN           2                                         4\n",
       "3         4                                Used           4        4      2           5               5     5           4         3          4               3        4             4      3          4                                 Used             Not_Know                                    Used  1972   Male           5                                        18\n",
       "4         4                                Used           5        4      1           5               4     5           5         5          4               4        3             5      2          5                             Not_Used                 Used                                    Used  1968   Male           5                                        20"
      ]
     },
     "execution_count": 15,
     "metadata": {},
     "output_type": "execute_result"
    }
   ],
   "source": [
    "data.head()"
   ]
  },
  {
   "cell_type": "markdown",
   "metadata": {},
   "source": [
    "### Years Professional Programming Experience"
   ]
  },
  {
   "cell_type": "code",
   "execution_count": 16,
   "metadata": {
    "collapsed": false
   },
   "outputs": [
    {
     "data": {
      "text/plain": [
       "array(['30+', '15', '4', '18', '20', '45', '26', '2', '5', '10', '43',\n",
       "       '40+', '20+', nan, '30', '1', '1-2 kinda', '14', '6', '7', '25',\n",
       "       '0', '2.5 years', '22', '47', '21', '11', '28', '8', '32', '35',\n",
       "       '4 years', '9', '38', '12', '40', '0. Just from college classes.',\n",
       "       '46', '13', '55', '3', '31', '33', '37', '16', '5 years', '27',\n",
       "       '36', '42',\n",
       "       'filtering: appending to the url is completely screwed up!! please fix!!!',\n",
       "       '24', '17', '30+ '], dtype=object)"
      ]
     },
     "execution_count": 16,
     "metadata": {},
     "output_type": "execute_result"
    }
   ],
   "source": [
    "data.years_professional_programming_experience.unique()"
   ]
  },
  {
   "cell_type": "markdown",
   "metadata": {},
   "source": [
    "* Replace string text with only the digit part of the string"
   ]
  },
  {
   "cell_type": "code",
   "execution_count": 17,
   "metadata": {
    "collapsed": false
   },
   "outputs": [],
   "source": [
    "data.years_professional_programming_experience = data.years_professional_programming_experience.str.replace('+','')\n",
    "data.years_professional_programming_experience = data.years_professional_programming_experience.str.replace('not many', '2')\n",
    "data.years_professional_programming_experience = data.years_professional_programming_experience.str.replace('1-2 kinda', '1')\n",
    "data.years_professional_programming_experience = data.years_professional_programming_experience.str.replace('5 years', '5')\n",
    "data.years_professional_programming_experience = data.years_professional_programming_experience.str.replace('4 years', '4')\n",
    "data.years_professional_programming_experience = data.years_professional_programming_experience.str.replace('0. Just from college classes.', '0')\n",
    "data.years_professional_programming_experience = data.years_professional_programming_experience.str.replace('filtering: appending to the url is completely screwed up!! please fix!!!', '0')"
   ]
  },
  {
   "cell_type": "markdown",
   "metadata": {},
   "source": [
    "* Make all remaining numeric cells across whole dataframe that are instead improperly strings a digit. Fields that truely are strings will remain strings with the 'ignore' flag:"
   ]
  },
  {
   "cell_type": "code",
   "execution_count": 18,
   "metadata": {
    "collapsed": false
   },
   "outputs": [],
   "source": [
    "data = data.apply(lambda x: pd.to_numeric(x, errors='ignore'))"
   ]
  },
  {
   "cell_type": "code",
   "execution_count": 19,
   "metadata": {
    "collapsed": false
   },
   "outputs": [
    {
     "data": {
      "text/plain": [
       "dtype('float64')"
      ]
     },
     "execution_count": 19,
     "metadata": {},
     "output_type": "execute_result"
    }
   ],
   "source": [
    "data.years_professional_programming_experience.dtypes"
   ]
  },
  {
   "cell_type": "code",
   "execution_count": 20,
   "metadata": {
    "collapsed": false
   },
   "outputs": [
    {
     "data": {
      "text/plain": [
       "count    193.000000\n",
       "mean      16.095855\n",
       "std       12.896317\n",
       "min        0.000000\n",
       "25%        5.000000\n",
       "50%       15.000000\n",
       "75%       26.000000\n",
       "max       55.000000\n",
       "Name: years_professional_programming_experience, dtype: float64"
      ]
     },
     "execution_count": 20,
     "metadata": {},
     "output_type": "execute_result"
    }
   ],
   "source": [
    "data.years_professional_programming_experience.describe()"
   ]
  },
  {
   "cell_type": "code",
   "execution_count": 21,
   "metadata": {
    "collapsed": false
   },
   "outputs": [
    {
     "data": {
      "text/plain": [
       "15.0"
      ]
     },
     "execution_count": 21,
     "metadata": {},
     "output_type": "execute_result"
    }
   ],
   "source": [
    "data.years_professional_programming_experience.median()"
   ]
  },
  {
   "cell_type": "markdown",
   "metadata": {},
   "source": [
    "### Is there agreement between Biased and Objective; and Interesting and Boring?\n",
    "#### We can consider that if someone provided the same answer these these questions, that the person's orther responses may not be reliable."
   ]
  },
  {
   "cell_type": "code",
   "execution_count": 22,
   "metadata": {
    "collapsed": false
   },
   "outputs": [
    {
     "data": {
      "text/plain": [
       "50"
      ]
     },
     "execution_count": 22,
     "metadata": {},
     "output_type": "execute_result"
    }
   ],
   "source": [
    "len(data[data.Objective == data.Biased])"
   ]
  },
  {
   "cell_type": "code",
   "execution_count": 23,
   "metadata": {
    "collapsed": false
   },
   "outputs": [
    {
     "data": {
      "text/plain": [
       "19"
      ]
     },
     "execution_count": 23,
     "metadata": {},
     "output_type": "execute_result"
    }
   ],
   "source": [
    "len(data[data.Interesting == data.Boring])"
   ]
  },
  {
   "cell_type": "markdown",
   "metadata": {},
   "source": [
    "#### Remove rows containing responses where the responses to Interesting:Boring or Objective:Biased are similar"
   ]
  },
  {
   "cell_type": "code",
   "execution_count": 24,
   "metadata": {
    "collapsed": false
   },
   "outputs": [
    {
     "data": {
      "text/plain": [
       "(203, 23)"
      ]
     },
     "execution_count": 24,
     "metadata": {},
     "output_type": "execute_result"
    }
   ],
   "source": [
    "data.shape"
   ]
  },
  {
   "cell_type": "code",
   "execution_count": 25,
   "metadata": {
    "collapsed": false
   },
   "outputs": [
    {
     "data": {
      "text/plain": [
       "(192, 23)"
      ]
     },
     "execution_count": 25,
     "metadata": {},
     "output_type": "execute_result"
    }
   ],
   "source": [
    "inconsistent_responses = ((data.Interesting == 1) & ((data.Boring == 1) | (data.Boring == 2))) | ((data.Interesting == 2) & ((data.Boring == 1) | (data.Boring == 2))) | ((data.Interesting == 4) & ((data.Boring == 4) | (data.Boring == 5))) | ((data.Interesting == 5) & ((data.Boring == 4) | (data.Boring == 5)))\n",
    "            \n",
    "consistent_responses = ~inconsistent_responses\n",
    "data = data[consistent_responses == True]\n",
    "data.shape"
   ]
  },
  {
   "cell_type": "code",
   "execution_count": 26,
   "metadata": {
    "collapsed": false
   },
   "outputs": [
    {
     "data": {
      "text/plain": [
       "(165, 23)"
      ]
     },
     "execution_count": 26,
     "metadata": {},
     "output_type": "execute_result"
    }
   ],
   "source": [
    "inconsistent_responses = ((data.Objective == 1) & ((data.Biased == 1) | (data.Biased == 2))) | ((data.Objective == 2) & ((data.Biased == 1) | (data.Biased == 2))) | ((data.Objective == 4) & ((data.Biased == 4) | (data.Biased == 5))) | ((data.Objective == 5) & ((data.Biased == 4) | (data.Biased == 5)))\n",
    "consistent_responses = ~inconsistent_responses\n",
    "data = data[consistent_responses == True]\n",
    "data.shape"
   ]
  },
  {
   "cell_type": "markdown",
   "metadata": {},
   "source": [
    "### Gender descriptives"
   ]
  },
  {
   "cell_type": "code",
   "execution_count": 27,
   "metadata": {
    "collapsed": false
   },
   "outputs": [
    {
     "data": {
      "text/plain": [
       "Male      154\n",
       "Female      4\n",
       "Name: Gender, dtype: int64"
      ]
     },
     "execution_count": 27,
     "metadata": {},
     "output_type": "execute_result"
    }
   ],
   "source": [
    "data.Gender.value_counts()"
   ]
  },
  {
   "cell_type": "markdown",
   "metadata": {},
   "source": [
    "### Check for rows with more than 1 NA, since if someone fails to answer all the questions, the remaining responses from that person may not be reliable. One NA is ok, as that may be a genuine error. "
   ]
  },
  {
   "cell_type": "markdown",
   "metadata": {},
   "source": [
    "#### Number of rows with ANY number of NAs"
   ]
  },
  {
   "cell_type": "code",
   "execution_count": 28,
   "metadata": {
    "collapsed": false
   },
   "outputs": [
    {
     "data": {
      "text/plain": [
       "33"
      ]
     },
     "execution_count": 28,
     "metadata": {},
     "output_type": "execute_result"
    }
   ],
   "source": [
    "len(data[data.isnull().any(axis=1)]) "
   ]
  },
  {
   "cell_type": "markdown",
   "metadata": {},
   "source": [
    "#### Visually check each row"
   ]
  },
  {
   "cell_type": "code",
   "execution_count": 29,
   "metadata": {
    "collapsed": false
   },
   "outputs": [
    {
     "data": {
      "text/html": [
       "<div>\n",
       "<table border=\"1\" class=\"dataframe\">\n",
       "  <thead>\n",
       "    <tr style=\"text-align: right;\">\n",
       "      <th></th>\n",
       "      <th>Objective</th>\n",
       "      <th>Select_weighting_preset_for_ranking</th>\n",
       "      <th>Trustworthy</th>\n",
       "      <th>Accurate</th>\n",
       "      <th>Boring</th>\n",
       "      <th>Interesting</th>\n",
       "      <th>Pleasant_to_use</th>\n",
       "      <th>Clear</th>\n",
       "      <th>Informative</th>\n",
       "      <th>Enjoyable</th>\n",
       "      <th>Attractive</th>\n",
       "      <th>Relevant_useful</th>\n",
       "      <th>Coherent</th>\n",
       "      <th>Authoritative</th>\n",
       "      <th>Biased</th>\n",
       "      <th>Satisfying</th>\n",
       "      <th>Edit_ranking_weights_or_data_sources</th>\n",
       "      <th>Compare_two_rankings</th>\n",
       "      <th>Filter_visible_language_types_WebMobile</th>\n",
       "      <th>DOB</th>\n",
       "      <th>Gender</th>\n",
       "      <th>Easy_to_Use</th>\n",
       "      <th>years_professional_programming_experience</th>\n",
       "    </tr>\n",
       "  </thead>\n",
       "  <tbody>\n",
       "    <tr>\n",
       "      <th>2</th>\n",
       "      <td>1.0</td>\n",
       "      <td>NaN</td>\n",
       "      <td>NaN</td>\n",
       "      <td>NaN</td>\n",
       "      <td>NaN</td>\n",
       "      <td>NaN</td>\n",
       "      <td>NaN</td>\n",
       "      <td>NaN</td>\n",
       "      <td>1.0</td>\n",
       "      <td>1.0</td>\n",
       "      <td>NaN</td>\n",
       "      <td>3.0</td>\n",
       "      <td>NaN</td>\n",
       "      <td>NaN</td>\n",
       "      <td>NaN</td>\n",
       "      <td>NaN</td>\n",
       "      <td>NaN</td>\n",
       "      <td>NaN</td>\n",
       "      <td>NaN</td>\n",
       "      <td>0</td>\n",
       "      <td>NaN</td>\n",
       "      <td>2.0</td>\n",
       "      <td>4.0</td>\n",
       "    </tr>\n",
       "    <tr>\n",
       "      <th>13</th>\n",
       "      <td>2.0</td>\n",
       "      <td>Used</td>\n",
       "      <td>2.0</td>\n",
       "      <td>2.0</td>\n",
       "      <td>3.0</td>\n",
       "      <td>5.0</td>\n",
       "      <td>3.0</td>\n",
       "      <td>3.0</td>\n",
       "      <td>3.0</td>\n",
       "      <td>4.0</td>\n",
       "      <td>4.0</td>\n",
       "      <td>3.0</td>\n",
       "      <td>3.0</td>\n",
       "      <td>2.0</td>\n",
       "      <td>3.0</td>\n",
       "      <td>3.0</td>\n",
       "      <td>Not_Used</td>\n",
       "      <td>Not_Used</td>\n",
       "      <td>Used</td>\n",
       "      <td>1959</td>\n",
       "      <td>NaN</td>\n",
       "      <td>4.0</td>\n",
       "      <td>40.0</td>\n",
       "    </tr>\n",
       "    <tr>\n",
       "      <th>15</th>\n",
       "      <td>3.0</td>\n",
       "      <td>Used</td>\n",
       "      <td>4.0</td>\n",
       "      <td>3.0</td>\n",
       "      <td>1.0</td>\n",
       "      <td>4.0</td>\n",
       "      <td>5.0</td>\n",
       "      <td>5.0</td>\n",
       "      <td>4.0</td>\n",
       "      <td>4.0</td>\n",
       "      <td>3.0</td>\n",
       "      <td>5.0</td>\n",
       "      <td>4.0</td>\n",
       "      <td>3.0</td>\n",
       "      <td>3.0</td>\n",
       "      <td>3.0</td>\n",
       "      <td>Not_Used</td>\n",
       "      <td>Not_Know</td>\n",
       "      <td>Not_Used</td>\n",
       "      <td>0</td>\n",
       "      <td>Male</td>\n",
       "      <td>5.0</td>\n",
       "      <td>NaN</td>\n",
       "    </tr>\n",
       "    <tr>\n",
       "      <th>38</th>\n",
       "      <td>4.0</td>\n",
       "      <td>Used</td>\n",
       "      <td>4.0</td>\n",
       "      <td>3.0</td>\n",
       "      <td>2.0</td>\n",
       "      <td>4.0</td>\n",
       "      <td>4.0</td>\n",
       "      <td>4.0</td>\n",
       "      <td>5.0</td>\n",
       "      <td>3.0</td>\n",
       "      <td>3.0</td>\n",
       "      <td>3.0</td>\n",
       "      <td>NaN</td>\n",
       "      <td>2.0</td>\n",
       "      <td>2.0</td>\n",
       "      <td>3.0</td>\n",
       "      <td>Used</td>\n",
       "      <td>Not_Know</td>\n",
       "      <td>Used</td>\n",
       "      <td>1983</td>\n",
       "      <td>Male</td>\n",
       "      <td>5.0</td>\n",
       "      <td>15.0</td>\n",
       "    </tr>\n",
       "    <tr>\n",
       "      <th>39</th>\n",
       "      <td>NaN</td>\n",
       "      <td>NaN</td>\n",
       "      <td>4.0</td>\n",
       "      <td>NaN</td>\n",
       "      <td>NaN</td>\n",
       "      <td>5.0</td>\n",
       "      <td>5.0</td>\n",
       "      <td>NaN</td>\n",
       "      <td>5.0</td>\n",
       "      <td>5.0</td>\n",
       "      <td>NaN</td>\n",
       "      <td>3.0</td>\n",
       "      <td>NaN</td>\n",
       "      <td>NaN</td>\n",
       "      <td>NaN</td>\n",
       "      <td>5.0</td>\n",
       "      <td>NaN</td>\n",
       "      <td>NaN</td>\n",
       "      <td>NaN</td>\n",
       "      <td>1990</td>\n",
       "      <td>Male</td>\n",
       "      <td>5.0</td>\n",
       "      <td>0.0</td>\n",
       "    </tr>\n",
       "    <tr>\n",
       "      <th>40</th>\n",
       "      <td>4.0</td>\n",
       "      <td>Used</td>\n",
       "      <td>NaN</td>\n",
       "      <td>4.0</td>\n",
       "      <td>2.0</td>\n",
       "      <td>5.0</td>\n",
       "      <td>5.0</td>\n",
       "      <td>5.0</td>\n",
       "      <td>5.0</td>\n",
       "      <td>5.0</td>\n",
       "      <td>5.0</td>\n",
       "      <td>5.0</td>\n",
       "      <td>3.0</td>\n",
       "      <td>4.0</td>\n",
       "      <td>3.0</td>\n",
       "      <td>5.0</td>\n",
       "      <td>Used</td>\n",
       "      <td>Not_Used</td>\n",
       "      <td>Used</td>\n",
       "      <td>1992</td>\n",
       "      <td>Male</td>\n",
       "      <td>5.0</td>\n",
       "      <td>2.5</td>\n",
       "    </tr>\n",
       "    <tr>\n",
       "      <th>41</th>\n",
       "      <td>NaN</td>\n",
       "      <td>Used</td>\n",
       "      <td>NaN</td>\n",
       "      <td>NaN</td>\n",
       "      <td>1.0</td>\n",
       "      <td>5.0</td>\n",
       "      <td>5.0</td>\n",
       "      <td>4.0</td>\n",
       "      <td>5.0</td>\n",
       "      <td>5.0</td>\n",
       "      <td>4.0</td>\n",
       "      <td>5.0</td>\n",
       "      <td>5.0</td>\n",
       "      <td>NaN</td>\n",
       "      <td>NaN</td>\n",
       "      <td>5.0</td>\n",
       "      <td>Not_Used</td>\n",
       "      <td>Not_Used</td>\n",
       "      <td>Not_Used</td>\n",
       "      <td>1983</td>\n",
       "      <td>Male</td>\n",
       "      <td>5.0</td>\n",
       "      <td>2.0</td>\n",
       "    </tr>\n",
       "    <tr>\n",
       "      <th>42</th>\n",
       "      <td>5.0</td>\n",
       "      <td>NaN</td>\n",
       "      <td>NaN</td>\n",
       "      <td>4.0</td>\n",
       "      <td>NaN</td>\n",
       "      <td>NaN</td>\n",
       "      <td>NaN</td>\n",
       "      <td>5.0</td>\n",
       "      <td>NaN</td>\n",
       "      <td>NaN</td>\n",
       "      <td>NaN</td>\n",
       "      <td>5.0</td>\n",
       "      <td>NaN</td>\n",
       "      <td>NaN</td>\n",
       "      <td>NaN</td>\n",
       "      <td>NaN</td>\n",
       "      <td>Not_Used</td>\n",
       "      <td>NaN</td>\n",
       "      <td>Used</td>\n",
       "      <td>0</td>\n",
       "      <td>Male</td>\n",
       "      <td>NaN</td>\n",
       "      <td>22.0</td>\n",
       "    </tr>\n",
       "    <tr>\n",
       "      <th>44</th>\n",
       "      <td>NaN</td>\n",
       "      <td>Used</td>\n",
       "      <td>NaN</td>\n",
       "      <td>NaN</td>\n",
       "      <td>NaN</td>\n",
       "      <td>1.0</td>\n",
       "      <td>NaN</td>\n",
       "      <td>NaN</td>\n",
       "      <td>NaN</td>\n",
       "      <td>NaN</td>\n",
       "      <td>NaN</td>\n",
       "      <td>NaN</td>\n",
       "      <td>NaN</td>\n",
       "      <td>NaN</td>\n",
       "      <td>NaN</td>\n",
       "      <td>NaN</td>\n",
       "      <td>Not_Used</td>\n",
       "      <td>Used</td>\n",
       "      <td>Used</td>\n",
       "      <td>2001</td>\n",
       "      <td>Male</td>\n",
       "      <td>NaN</td>\n",
       "      <td>5.0</td>\n",
       "    </tr>\n",
       "    <tr>\n",
       "      <th>45</th>\n",
       "      <td>3.0</td>\n",
       "      <td>Used</td>\n",
       "      <td>3.0</td>\n",
       "      <td>3.0</td>\n",
       "      <td>1.0</td>\n",
       "      <td>3.0</td>\n",
       "      <td>4.0</td>\n",
       "      <td>3.0</td>\n",
       "      <td>5.0</td>\n",
       "      <td>5.0</td>\n",
       "      <td>1.0</td>\n",
       "      <td>5.0</td>\n",
       "      <td>3.0</td>\n",
       "      <td>1.0</td>\n",
       "      <td>NaN</td>\n",
       "      <td>1.0</td>\n",
       "      <td>Used</td>\n",
       "      <td>Used</td>\n",
       "      <td>Used</td>\n",
       "      <td>1984</td>\n",
       "      <td>Male</td>\n",
       "      <td>3.0</td>\n",
       "      <td>7.0</td>\n",
       "    </tr>\n",
       "    <tr>\n",
       "      <th>54</th>\n",
       "      <td>NaN</td>\n",
       "      <td>Used</td>\n",
       "      <td>NaN</td>\n",
       "      <td>NaN</td>\n",
       "      <td>NaN</td>\n",
       "      <td>NaN</td>\n",
       "      <td>NaN</td>\n",
       "      <td>NaN</td>\n",
       "      <td>NaN</td>\n",
       "      <td>NaN</td>\n",
       "      <td>NaN</td>\n",
       "      <td>5.0</td>\n",
       "      <td>NaN</td>\n",
       "      <td>NaN</td>\n",
       "      <td>NaN</td>\n",
       "      <td>NaN</td>\n",
       "      <td>Used</td>\n",
       "      <td>Not_Know</td>\n",
       "      <td>Used</td>\n",
       "      <td>0</td>\n",
       "      <td>Male</td>\n",
       "      <td>NaN</td>\n",
       "      <td>28.0</td>\n",
       "    </tr>\n",
       "    <tr>\n",
       "      <th>59</th>\n",
       "      <td>NaN</td>\n",
       "      <td>Used</td>\n",
       "      <td>NaN</td>\n",
       "      <td>NaN</td>\n",
       "      <td>NaN</td>\n",
       "      <td>5.0</td>\n",
       "      <td>NaN</td>\n",
       "      <td>2.0</td>\n",
       "      <td>3.0</td>\n",
       "      <td>NaN</td>\n",
       "      <td>NaN</td>\n",
       "      <td>NaN</td>\n",
       "      <td>NaN</td>\n",
       "      <td>NaN</td>\n",
       "      <td>NaN</td>\n",
       "      <td>NaN</td>\n",
       "      <td>Not_Know</td>\n",
       "      <td>Not_Know</td>\n",
       "      <td>Used</td>\n",
       "      <td>Norrköping Sweden</td>\n",
       "      <td>Male</td>\n",
       "      <td>4.0</td>\n",
       "      <td>8.0</td>\n",
       "    </tr>\n",
       "    <tr>\n",
       "      <th>93</th>\n",
       "      <td>3.0</td>\n",
       "      <td>NaN</td>\n",
       "      <td>3.0</td>\n",
       "      <td>3.0</td>\n",
       "      <td>2.0</td>\n",
       "      <td>4.0</td>\n",
       "      <td>4.0</td>\n",
       "      <td>3.0</td>\n",
       "      <td>3.0</td>\n",
       "      <td>4.0</td>\n",
       "      <td>5.0</td>\n",
       "      <td>4.0</td>\n",
       "      <td>3.0</td>\n",
       "      <td>3.0</td>\n",
       "      <td>3.0</td>\n",
       "      <td>4.0</td>\n",
       "      <td>NaN</td>\n",
       "      <td>NaN</td>\n",
       "      <td>NaN</td>\n",
       "      <td>0</td>\n",
       "      <td>Male</td>\n",
       "      <td>4.0</td>\n",
       "      <td>NaN</td>\n",
       "    </tr>\n",
       "    <tr>\n",
       "      <th>96</th>\n",
       "      <td>4.0</td>\n",
       "      <td>Not_Know</td>\n",
       "      <td>5.0</td>\n",
       "      <td>5.0</td>\n",
       "      <td>1.0</td>\n",
       "      <td>4.0</td>\n",
       "      <td>4.0</td>\n",
       "      <td>4.0</td>\n",
       "      <td>4.0</td>\n",
       "      <td>4.0</td>\n",
       "      <td>3.0</td>\n",
       "      <td>4.0</td>\n",
       "      <td>4.0</td>\n",
       "      <td>4.0</td>\n",
       "      <td>3.0</td>\n",
       "      <td>4.0</td>\n",
       "      <td>Not_Know</td>\n",
       "      <td>NaN</td>\n",
       "      <td>Not_Know</td>\n",
       "      <td>2015</td>\n",
       "      <td>Female</td>\n",
       "      <td>5.0</td>\n",
       "      <td>55.0</td>\n",
       "    </tr>\n",
       "    <tr>\n",
       "      <th>102</th>\n",
       "      <td>2.0</td>\n",
       "      <td>Used</td>\n",
       "      <td>1.0</td>\n",
       "      <td>1.0</td>\n",
       "      <td>2.0</td>\n",
       "      <td>4.0</td>\n",
       "      <td>3.0</td>\n",
       "      <td>2.0</td>\n",
       "      <td>3.0</td>\n",
       "      <td>2.0</td>\n",
       "      <td>3.0</td>\n",
       "      <td>2.0</td>\n",
       "      <td>3.0</td>\n",
       "      <td>1.0</td>\n",
       "      <td>4.0</td>\n",
       "      <td>1.0</td>\n",
       "      <td>Not_Used</td>\n",
       "      <td>Not_Used</td>\n",
       "      <td>Used</td>\n",
       "      <td>1955</td>\n",
       "      <td>NaN</td>\n",
       "      <td>2.0</td>\n",
       "      <td>33.0</td>\n",
       "    </tr>\n",
       "    <tr>\n",
       "      <th>113</th>\n",
       "      <td>4.0</td>\n",
       "      <td>Used</td>\n",
       "      <td>3.0</td>\n",
       "      <td>3.0</td>\n",
       "      <td>2.0</td>\n",
       "      <td>4.0</td>\n",
       "      <td>4.0</td>\n",
       "      <td>4.0</td>\n",
       "      <td>4.0</td>\n",
       "      <td>4.0</td>\n",
       "      <td>4.0</td>\n",
       "      <td>4.0</td>\n",
       "      <td>4.0</td>\n",
       "      <td>3.0</td>\n",
       "      <td>3.0</td>\n",
       "      <td>3.0</td>\n",
       "      <td>Used</td>\n",
       "      <td>NaN</td>\n",
       "      <td>Used</td>\n",
       "      <td>1964</td>\n",
       "      <td>Male</td>\n",
       "      <td>5.0</td>\n",
       "      <td>31.0</td>\n",
       "    </tr>\n",
       "    <tr>\n",
       "      <th>118</th>\n",
       "      <td>NaN</td>\n",
       "      <td>NaN</td>\n",
       "      <td>NaN</td>\n",
       "      <td>NaN</td>\n",
       "      <td>NaN</td>\n",
       "      <td>NaN</td>\n",
       "      <td>NaN</td>\n",
       "      <td>NaN</td>\n",
       "      <td>NaN</td>\n",
       "      <td>NaN</td>\n",
       "      <td>NaN</td>\n",
       "      <td>NaN</td>\n",
       "      <td>NaN</td>\n",
       "      <td>NaN</td>\n",
       "      <td>NaN</td>\n",
       "      <td>NaN</td>\n",
       "      <td>NaN</td>\n",
       "      <td>NaN</td>\n",
       "      <td>NaN</td>\n",
       "      <td>0</td>\n",
       "      <td>NaN</td>\n",
       "      <td>NaN</td>\n",
       "      <td>NaN</td>\n",
       "    </tr>\n",
       "    <tr>\n",
       "      <th>120</th>\n",
       "      <td>3.0</td>\n",
       "      <td>NaN</td>\n",
       "      <td>2.0</td>\n",
       "      <td>2.0</td>\n",
       "      <td>3.0</td>\n",
       "      <td>5.0</td>\n",
       "      <td>3.0</td>\n",
       "      <td>3.0</td>\n",
       "      <td>3.0</td>\n",
       "      <td>2.0</td>\n",
       "      <td>2.0</td>\n",
       "      <td>4.0</td>\n",
       "      <td>2.0</td>\n",
       "      <td>3.0</td>\n",
       "      <td>1.0</td>\n",
       "      <td>3.0</td>\n",
       "      <td>Used</td>\n",
       "      <td>Used</td>\n",
       "      <td>Used</td>\n",
       "      <td>0</td>\n",
       "      <td>Male</td>\n",
       "      <td>3.0</td>\n",
       "      <td>5.0</td>\n",
       "    </tr>\n",
       "    <tr>\n",
       "      <th>121</th>\n",
       "      <td>1.0</td>\n",
       "      <td>Not_Know</td>\n",
       "      <td>1.0</td>\n",
       "      <td>1.0</td>\n",
       "      <td>5.0</td>\n",
       "      <td>1.0</td>\n",
       "      <td>3.0</td>\n",
       "      <td>1.0</td>\n",
       "      <td>1.0</td>\n",
       "      <td>1.0</td>\n",
       "      <td>NaN</td>\n",
       "      <td>1.0</td>\n",
       "      <td>1.0</td>\n",
       "      <td>1.0</td>\n",
       "      <td>4.0</td>\n",
       "      <td>2.0</td>\n",
       "      <td>Not_Know</td>\n",
       "      <td>Not_Know</td>\n",
       "      <td>Not_Know</td>\n",
       "      <td>1966</td>\n",
       "      <td>Male</td>\n",
       "      <td>5.0</td>\n",
       "      <td>18.0</td>\n",
       "    </tr>\n",
       "    <tr>\n",
       "      <th>122</th>\n",
       "      <td>NaN</td>\n",
       "      <td>Used</td>\n",
       "      <td>4.0</td>\n",
       "      <td>3.0</td>\n",
       "      <td>1.0</td>\n",
       "      <td>5.0</td>\n",
       "      <td>5.0</td>\n",
       "      <td>5.0</td>\n",
       "      <td>5.0</td>\n",
       "      <td>5.0</td>\n",
       "      <td>5.0</td>\n",
       "      <td>3.0</td>\n",
       "      <td>3.0</td>\n",
       "      <td>3.0</td>\n",
       "      <td>3.0</td>\n",
       "      <td>3.0</td>\n",
       "      <td>Not_Know</td>\n",
       "      <td>Not_Used</td>\n",
       "      <td>Used</td>\n",
       "      <td>1967</td>\n",
       "      <td>Male</td>\n",
       "      <td>5.0</td>\n",
       "      <td>31.0</td>\n",
       "    </tr>\n",
       "    <tr>\n",
       "      <th>138</th>\n",
       "      <td>1.0</td>\n",
       "      <td>Used</td>\n",
       "      <td>2.0</td>\n",
       "      <td>2.0</td>\n",
       "      <td>4.0</td>\n",
       "      <td>2.0</td>\n",
       "      <td>2.0</td>\n",
       "      <td>1.0</td>\n",
       "      <td>2.0</td>\n",
       "      <td>2.0</td>\n",
       "      <td>2.0</td>\n",
       "      <td>2.0</td>\n",
       "      <td>1.0</td>\n",
       "      <td>2.0</td>\n",
       "      <td>4.0</td>\n",
       "      <td>2.0</td>\n",
       "      <td>Used</td>\n",
       "      <td>Used</td>\n",
       "      <td>NaN</td>\n",
       "      <td>1964</td>\n",
       "      <td>Male</td>\n",
       "      <td>3.0</td>\n",
       "      <td>36.0</td>\n",
       "    </tr>\n",
       "    <tr>\n",
       "      <th>147</th>\n",
       "      <td>NaN</td>\n",
       "      <td>NaN</td>\n",
       "      <td>NaN</td>\n",
       "      <td>NaN</td>\n",
       "      <td>NaN</td>\n",
       "      <td>NaN</td>\n",
       "      <td>NaN</td>\n",
       "      <td>NaN</td>\n",
       "      <td>NaN</td>\n",
       "      <td>NaN</td>\n",
       "      <td>NaN</td>\n",
       "      <td>NaN</td>\n",
       "      <td>NaN</td>\n",
       "      <td>NaN</td>\n",
       "      <td>NaN</td>\n",
       "      <td>NaN</td>\n",
       "      <td>NaN</td>\n",
       "      <td>NaN</td>\n",
       "      <td>NaN</td>\n",
       "      <td>0</td>\n",
       "      <td>NaN</td>\n",
       "      <td>NaN</td>\n",
       "      <td>NaN</td>\n",
       "    </tr>\n",
       "    <tr>\n",
       "      <th>151</th>\n",
       "      <td>3.0</td>\n",
       "      <td>Used</td>\n",
       "      <td>4.0</td>\n",
       "      <td>3.0</td>\n",
       "      <td>1.0</td>\n",
       "      <td>4.0</td>\n",
       "      <td>4.0</td>\n",
       "      <td>4.0</td>\n",
       "      <td>4.0</td>\n",
       "      <td>4.0</td>\n",
       "      <td>3.0</td>\n",
       "      <td>4.0</td>\n",
       "      <td>3.0</td>\n",
       "      <td>4.0</td>\n",
       "      <td>2.0</td>\n",
       "      <td>3.0</td>\n",
       "      <td>Used</td>\n",
       "      <td>Not_Used</td>\n",
       "      <td>Not_Used</td>\n",
       "      <td>0</td>\n",
       "      <td>Male</td>\n",
       "      <td>4.0</td>\n",
       "      <td>NaN</td>\n",
       "    </tr>\n",
       "    <tr>\n",
       "      <th>157</th>\n",
       "      <td>3.0</td>\n",
       "      <td>Not_Used</td>\n",
       "      <td>3.0</td>\n",
       "      <td>3.0</td>\n",
       "      <td>3.0</td>\n",
       "      <td>4.0</td>\n",
       "      <td>4.0</td>\n",
       "      <td>3.0</td>\n",
       "      <td>3.0</td>\n",
       "      <td>3.0</td>\n",
       "      <td>3.0</td>\n",
       "      <td>4.0</td>\n",
       "      <td>3.0</td>\n",
       "      <td>3.0</td>\n",
       "      <td>2.0</td>\n",
       "      <td>3.0</td>\n",
       "      <td>Not_Used</td>\n",
       "      <td>NaN</td>\n",
       "      <td>Used</td>\n",
       "      <td>1958</td>\n",
       "      <td>Male</td>\n",
       "      <td>3.0</td>\n",
       "      <td>36.0</td>\n",
       "    </tr>\n",
       "    <tr>\n",
       "      <th>168</th>\n",
       "      <td>NaN</td>\n",
       "      <td>NaN</td>\n",
       "      <td>NaN</td>\n",
       "      <td>NaN</td>\n",
       "      <td>NaN</td>\n",
       "      <td>NaN</td>\n",
       "      <td>NaN</td>\n",
       "      <td>NaN</td>\n",
       "      <td>NaN</td>\n",
       "      <td>NaN</td>\n",
       "      <td>4.0</td>\n",
       "      <td>4.0</td>\n",
       "      <td>4.0</td>\n",
       "      <td>NaN</td>\n",
       "      <td>NaN</td>\n",
       "      <td>NaN</td>\n",
       "      <td>NaN</td>\n",
       "      <td>NaN</td>\n",
       "      <td>NaN</td>\n",
       "      <td>0</td>\n",
       "      <td>NaN</td>\n",
       "      <td>NaN</td>\n",
       "      <td>NaN</td>\n",
       "    </tr>\n",
       "    <tr>\n",
       "      <th>172</th>\n",
       "      <td>NaN</td>\n",
       "      <td>NaN</td>\n",
       "      <td>1.0</td>\n",
       "      <td>1.0</td>\n",
       "      <td>NaN</td>\n",
       "      <td>NaN</td>\n",
       "      <td>NaN</td>\n",
       "      <td>NaN</td>\n",
       "      <td>NaN</td>\n",
       "      <td>NaN</td>\n",
       "      <td>NaN</td>\n",
       "      <td>1.0</td>\n",
       "      <td>NaN</td>\n",
       "      <td>1.0</td>\n",
       "      <td>1.0</td>\n",
       "      <td>NaN</td>\n",
       "      <td>NaN</td>\n",
       "      <td>NaN</td>\n",
       "      <td>NaN</td>\n",
       "      <td>0</td>\n",
       "      <td>Male</td>\n",
       "      <td>NaN</td>\n",
       "      <td>26.0</td>\n",
       "    </tr>\n",
       "    <tr>\n",
       "      <th>178</th>\n",
       "      <td>4.0</td>\n",
       "      <td>Used</td>\n",
       "      <td>3.0</td>\n",
       "      <td>3.0</td>\n",
       "      <td>1.0</td>\n",
       "      <td>4.0</td>\n",
       "      <td>4.0</td>\n",
       "      <td>3.0</td>\n",
       "      <td>4.0</td>\n",
       "      <td>4.0</td>\n",
       "      <td>4.0</td>\n",
       "      <td>3.0</td>\n",
       "      <td>4.0</td>\n",
       "      <td>3.0</td>\n",
       "      <td>3.0</td>\n",
       "      <td>4.0</td>\n",
       "      <td>NaN</td>\n",
       "      <td>Not_Know</td>\n",
       "      <td>Used</td>\n",
       "      <td>1960</td>\n",
       "      <td>Male</td>\n",
       "      <td>4.0</td>\n",
       "      <td>32.0</td>\n",
       "    </tr>\n",
       "    <tr>\n",
       "      <th>187</th>\n",
       "      <td>NaN</td>\n",
       "      <td>NaN</td>\n",
       "      <td>NaN</td>\n",
       "      <td>NaN</td>\n",
       "      <td>NaN</td>\n",
       "      <td>NaN</td>\n",
       "      <td>NaN</td>\n",
       "      <td>NaN</td>\n",
       "      <td>NaN</td>\n",
       "      <td>NaN</td>\n",
       "      <td>NaN</td>\n",
       "      <td>NaN</td>\n",
       "      <td>NaN</td>\n",
       "      <td>NaN</td>\n",
       "      <td>NaN</td>\n",
       "      <td>NaN</td>\n",
       "      <td>NaN</td>\n",
       "      <td>NaN</td>\n",
       "      <td>NaN</td>\n",
       "      <td>1978</td>\n",
       "      <td>Male</td>\n",
       "      <td>NaN</td>\n",
       "      <td>15.0</td>\n",
       "    </tr>\n",
       "    <tr>\n",
       "      <th>192</th>\n",
       "      <td>NaN</td>\n",
       "      <td>NaN</td>\n",
       "      <td>NaN</td>\n",
       "      <td>NaN</td>\n",
       "      <td>NaN</td>\n",
       "      <td>NaN</td>\n",
       "      <td>NaN</td>\n",
       "      <td>NaN</td>\n",
       "      <td>NaN</td>\n",
       "      <td>1.0</td>\n",
       "      <td>NaN</td>\n",
       "      <td>NaN</td>\n",
       "      <td>NaN</td>\n",
       "      <td>NaN</td>\n",
       "      <td>NaN</td>\n",
       "      <td>NaN</td>\n",
       "      <td>NaN</td>\n",
       "      <td>NaN</td>\n",
       "      <td>NaN</td>\n",
       "      <td>0</td>\n",
       "      <td>Male</td>\n",
       "      <td>NaN</td>\n",
       "      <td>20.0</td>\n",
       "    </tr>\n",
       "    <tr>\n",
       "      <th>198</th>\n",
       "      <td>5.0</td>\n",
       "      <td>NaN</td>\n",
       "      <td>NaN</td>\n",
       "      <td>5.0</td>\n",
       "      <td>NaN</td>\n",
       "      <td>NaN</td>\n",
       "      <td>5.0</td>\n",
       "      <td>NaN</td>\n",
       "      <td>5.0</td>\n",
       "      <td>NaN</td>\n",
       "      <td>NaN</td>\n",
       "      <td>NaN</td>\n",
       "      <td>5.0</td>\n",
       "      <td>5.0</td>\n",
       "      <td>NaN</td>\n",
       "      <td>5.0</td>\n",
       "      <td>NaN</td>\n",
       "      <td>NaN</td>\n",
       "      <td>NaN</td>\n",
       "      <td>1991</td>\n",
       "      <td>Male</td>\n",
       "      <td>5.0</td>\n",
       "      <td>8.0</td>\n",
       "    </tr>\n",
       "    <tr>\n",
       "      <th>199</th>\n",
       "      <td>NaN</td>\n",
       "      <td>NaN</td>\n",
       "      <td>NaN</td>\n",
       "      <td>NaN</td>\n",
       "      <td>NaN</td>\n",
       "      <td>NaN</td>\n",
       "      <td>NaN</td>\n",
       "      <td>NaN</td>\n",
       "      <td>NaN</td>\n",
       "      <td>NaN</td>\n",
       "      <td>NaN</td>\n",
       "      <td>1.0</td>\n",
       "      <td>NaN</td>\n",
       "      <td>NaN</td>\n",
       "      <td>NaN</td>\n",
       "      <td>NaN</td>\n",
       "      <td>Not_Used</td>\n",
       "      <td>NaN</td>\n",
       "      <td>NaN</td>\n",
       "      <td>0</td>\n",
       "      <td>Female</td>\n",
       "      <td>NaN</td>\n",
       "      <td>NaN</td>\n",
       "    </tr>\n",
       "    <tr>\n",
       "      <th>201</th>\n",
       "      <td>NaN</td>\n",
       "      <td>NaN</td>\n",
       "      <td>2.0</td>\n",
       "      <td>2.0</td>\n",
       "      <td>3.0</td>\n",
       "      <td>4.0</td>\n",
       "      <td>3.0</td>\n",
       "      <td>3.0</td>\n",
       "      <td>NaN</td>\n",
       "      <td>NaN</td>\n",
       "      <td>3.0</td>\n",
       "      <td>NaN</td>\n",
       "      <td>3.0</td>\n",
       "      <td>NaN</td>\n",
       "      <td>3.0</td>\n",
       "      <td>NaN</td>\n",
       "      <td>NaN</td>\n",
       "      <td>NaN</td>\n",
       "      <td>NaN</td>\n",
       "      <td>0</td>\n",
       "      <td>NaN</td>\n",
       "      <td>NaN</td>\n",
       "      <td>NaN</td>\n",
       "    </tr>\n",
       "    <tr>\n",
       "      <th>202</th>\n",
       "      <td>3.0</td>\n",
       "      <td>Used</td>\n",
       "      <td>4.0</td>\n",
       "      <td>4.0</td>\n",
       "      <td>2.0</td>\n",
       "      <td>4.0</td>\n",
       "      <td>4.0</td>\n",
       "      <td>3.0</td>\n",
       "      <td>4.0</td>\n",
       "      <td>4.0</td>\n",
       "      <td>3.0</td>\n",
       "      <td>3.0</td>\n",
       "      <td>3.0</td>\n",
       "      <td>3.0</td>\n",
       "      <td>3.0</td>\n",
       "      <td>4.0</td>\n",
       "      <td>Used</td>\n",
       "      <td>Used</td>\n",
       "      <td>Used</td>\n",
       "      <td>0</td>\n",
       "      <td>Male</td>\n",
       "      <td>4.0</td>\n",
       "      <td>NaN</td>\n",
       "    </tr>\n",
       "  </tbody>\n",
       "</table>\n",
       "</div>"
      ],
      "text/plain": [
       "     Objective Select_weighting_preset_for_ranking  Trustworthy  Accurate  Boring  Interesting  Pleasant_to_use  Clear  Informative  Enjoyable  Attractive  Relevant_useful  Coherent  Authoritative  Biased  Satisfying Edit_ranking_weights_or_data_sources Compare_two_rankings Filter_visible_language_types_WebMobile                DOB  Gender  Easy_to_Use  years_professional_programming_experience\n",
       "2          1.0                                 NaN          NaN       NaN     NaN          NaN              NaN    NaN          1.0        1.0         NaN              3.0       NaN            NaN     NaN         NaN                                  NaN                  NaN                                     NaN                  0     NaN          2.0                                        4.0\n",
       "13         2.0                                Used          2.0       2.0     3.0          5.0              3.0    3.0          3.0        4.0         4.0              3.0       3.0            2.0     3.0         3.0                             Not_Used             Not_Used                                    Used               1959     NaN          4.0                                       40.0\n",
       "15         3.0                                Used          4.0       3.0     1.0          4.0              5.0    5.0          4.0        4.0         3.0              5.0       4.0            3.0     3.0         3.0                             Not_Used             Not_Know                                Not_Used                  0    Male          5.0                                        NaN\n",
       "38         4.0                                Used          4.0       3.0     2.0          4.0              4.0    4.0          5.0        3.0         3.0              3.0       NaN            2.0     2.0         3.0                                 Used             Not_Know                                    Used               1983    Male          5.0                                       15.0\n",
       "39         NaN                                 NaN          4.0       NaN     NaN          5.0              5.0    NaN          5.0        5.0         NaN              3.0       NaN            NaN     NaN         5.0                                  NaN                  NaN                                     NaN               1990    Male          5.0                                        0.0\n",
       "40         4.0                                Used          NaN       4.0     2.0          5.0              5.0    5.0          5.0        5.0         5.0              5.0       3.0            4.0     3.0         5.0                                 Used             Not_Used                                    Used               1992    Male          5.0                                        2.5\n",
       "41         NaN                                Used          NaN       NaN     1.0          5.0              5.0    4.0          5.0        5.0         4.0              5.0       5.0            NaN     NaN         5.0                             Not_Used             Not_Used                                Not_Used               1983    Male          5.0                                        2.0\n",
       "42         5.0                                 NaN          NaN       4.0     NaN          NaN              NaN    5.0          NaN        NaN         NaN              5.0       NaN            NaN     NaN         NaN                             Not_Used                  NaN                                    Used                  0    Male          NaN                                       22.0\n",
       "44         NaN                                Used          NaN       NaN     NaN          1.0              NaN    NaN          NaN        NaN         NaN              NaN       NaN            NaN     NaN         NaN                             Not_Used                 Used                                    Used               2001    Male          NaN                                        5.0\n",
       "45         3.0                                Used          3.0       3.0     1.0          3.0              4.0    3.0          5.0        5.0         1.0              5.0       3.0            1.0     NaN         1.0                                 Used                 Used                                    Used               1984    Male          3.0                                        7.0\n",
       "54         NaN                                Used          NaN       NaN     NaN          NaN              NaN    NaN          NaN        NaN         NaN              5.0       NaN            NaN     NaN         NaN                                 Used             Not_Know                                    Used                  0    Male          NaN                                       28.0\n",
       "59         NaN                                Used          NaN       NaN     NaN          5.0              NaN    2.0          3.0        NaN         NaN              NaN       NaN            NaN     NaN         NaN                             Not_Know             Not_Know                                    Used  Norrköping Sweden    Male          4.0                                        8.0\n",
       "93         3.0                                 NaN          3.0       3.0     2.0          4.0              4.0    3.0          3.0        4.0         5.0              4.0       3.0            3.0     3.0         4.0                                  NaN                  NaN                                     NaN                  0    Male          4.0                                        NaN\n",
       "96         4.0                            Not_Know          5.0       5.0     1.0          4.0              4.0    4.0          4.0        4.0         3.0              4.0       4.0            4.0     3.0         4.0                             Not_Know                  NaN                                Not_Know               2015  Female          5.0                                       55.0\n",
       "102        2.0                                Used          1.0       1.0     2.0          4.0              3.0    2.0          3.0        2.0         3.0              2.0       3.0            1.0     4.0         1.0                             Not_Used             Not_Used                                    Used               1955     NaN          2.0                                       33.0\n",
       "113        4.0                                Used          3.0       3.0     2.0          4.0              4.0    4.0          4.0        4.0         4.0              4.0       4.0            3.0     3.0         3.0                                 Used                  NaN                                    Used               1964    Male          5.0                                       31.0\n",
       "118        NaN                                 NaN          NaN       NaN     NaN          NaN              NaN    NaN          NaN        NaN         NaN              NaN       NaN            NaN     NaN         NaN                                  NaN                  NaN                                     NaN                  0     NaN          NaN                                        NaN\n",
       "120        3.0                                 NaN          2.0       2.0     3.0          5.0              3.0    3.0          3.0        2.0         2.0              4.0       2.0            3.0     1.0         3.0                                 Used                 Used                                    Used                  0    Male          3.0                                        5.0\n",
       "121        1.0                            Not_Know          1.0       1.0     5.0          1.0              3.0    1.0          1.0        1.0         NaN              1.0       1.0            1.0     4.0         2.0                             Not_Know             Not_Know                                Not_Know               1966    Male          5.0                                       18.0\n",
       "122        NaN                                Used          4.0       3.0     1.0          5.0              5.0    5.0          5.0        5.0         5.0              3.0       3.0            3.0     3.0         3.0                             Not_Know             Not_Used                                    Used               1967    Male          5.0                                       31.0\n",
       "138        1.0                                Used          2.0       2.0     4.0          2.0              2.0    1.0          2.0        2.0         2.0              2.0       1.0            2.0     4.0         2.0                                 Used                 Used                                     NaN               1964    Male          3.0                                       36.0\n",
       "147        NaN                                 NaN          NaN       NaN     NaN          NaN              NaN    NaN          NaN        NaN         NaN              NaN       NaN            NaN     NaN         NaN                                  NaN                  NaN                                     NaN                  0     NaN          NaN                                        NaN\n",
       "151        3.0                                Used          4.0       3.0     1.0          4.0              4.0    4.0          4.0        4.0         3.0              4.0       3.0            4.0     2.0         3.0                                 Used             Not_Used                                Not_Used                  0    Male          4.0                                        NaN\n",
       "157        3.0                            Not_Used          3.0       3.0     3.0          4.0              4.0    3.0          3.0        3.0         3.0              4.0       3.0            3.0     2.0         3.0                             Not_Used                  NaN                                    Used               1958    Male          3.0                                       36.0\n",
       "168        NaN                                 NaN          NaN       NaN     NaN          NaN              NaN    NaN          NaN        NaN         4.0              4.0       4.0            NaN     NaN         NaN                                  NaN                  NaN                                     NaN                  0     NaN          NaN                                        NaN\n",
       "172        NaN                                 NaN          1.0       1.0     NaN          NaN              NaN    NaN          NaN        NaN         NaN              1.0       NaN            1.0     1.0         NaN                                  NaN                  NaN                                     NaN                  0    Male          NaN                                       26.0\n",
       "178        4.0                                Used          3.0       3.0     1.0          4.0              4.0    3.0          4.0        4.0         4.0              3.0       4.0            3.0     3.0         4.0                                  NaN             Not_Know                                    Used               1960    Male          4.0                                       32.0\n",
       "187        NaN                                 NaN          NaN       NaN     NaN          NaN              NaN    NaN          NaN        NaN         NaN              NaN       NaN            NaN     NaN         NaN                                  NaN                  NaN                                     NaN               1978    Male          NaN                                       15.0\n",
       "192        NaN                                 NaN          NaN       NaN     NaN          NaN              NaN    NaN          NaN        1.0         NaN              NaN       NaN            NaN     NaN         NaN                                  NaN                  NaN                                     NaN                  0    Male          NaN                                       20.0\n",
       "198        5.0                                 NaN          NaN       5.0     NaN          NaN              5.0    NaN          5.0        NaN         NaN              NaN       5.0            5.0     NaN         5.0                                  NaN                  NaN                                     NaN               1991    Male          5.0                                        8.0\n",
       "199        NaN                                 NaN          NaN       NaN     NaN          NaN              NaN    NaN          NaN        NaN         NaN              1.0       NaN            NaN     NaN         NaN                             Not_Used                  NaN                                     NaN                  0  Female          NaN                                        NaN\n",
       "201        NaN                                 NaN          2.0       2.0     3.0          4.0              3.0    3.0          NaN        NaN         3.0              NaN       3.0            NaN     3.0         NaN                                  NaN                  NaN                                     NaN                  0     NaN          NaN                                        NaN\n",
       "202        3.0                                Used          4.0       4.0     2.0          4.0              4.0    3.0          4.0        4.0         3.0              3.0       3.0            3.0     3.0         4.0                                 Used                 Used                                    Used                  0    Male          4.0                                        NaN"
      ]
     },
     "execution_count": 29,
     "metadata": {},
     "output_type": "execute_result"
    }
   ],
   "source": [
    "data[data.isnull().any(axis=1)]"
   ]
  },
  {
   "cell_type": "markdown",
   "metadata": {},
   "source": [
    "#### Checking the number of rows that will be retained if rows with more than one NaN are removed"
   ]
  },
  {
   "cell_type": "code",
   "execution_count": 30,
   "metadata": {
    "collapsed": false
   },
   "outputs": [
    {
     "data": {
      "text/plain": [
       "148"
      ]
     },
     "execution_count": 30,
     "metadata": {},
     "output_type": "execute_result"
    }
   ],
   "source": [
    "len(data.dropna(axis=0, thresh=len(data.columns)-1))"
   ]
  },
  {
   "cell_type": "code",
   "execution_count": 31,
   "metadata": {
    "collapsed": false
   },
   "outputs": [
    {
     "data": {
      "text/plain": [
       "(165, 23)"
      ]
     },
     "execution_count": 31,
     "metadata": {},
     "output_type": "execute_result"
    }
   ],
   "source": [
    "# current data shape (rows, columns)\n",
    "data.shape"
   ]
  },
  {
   "cell_type": "code",
   "execution_count": 32,
   "metadata": {
    "collapsed": false
   },
   "outputs": [
    {
     "data": {
      "text/plain": [
       "(148, 23)"
      ]
     },
     "execution_count": 32,
     "metadata": {},
     "output_type": "execute_result"
    }
   ],
   "source": [
    "# Remove rows with more than 1 NaN\n",
    "data = data.dropna(axis='index', thresh=len(data.columns)-1) \n",
    "\n",
    "# New data shape\n",
    "data.shape"
   ]
  },
  {
   "cell_type": "markdown",
   "metadata": {},
   "source": [
    "### What is the pairwise correlation between each survey response?"
   ]
  },
  {
   "cell_type": "code",
   "execution_count": 33,
   "metadata": {
    "collapsed": false
   },
   "outputs": [
    {
     "name": "stderr",
     "output_type": "stream",
     "text": [
      "/Users/jenniferstark/anaconda/lib/python3.4/site-packages/matplotlib/__init__.py:872: UserWarning: axes.color_cycle is deprecated and replaced with axes.prop_cycle; please use the latter.\n",
      "  warnings.warn(self.msg_depr % (key, alt_key))\n"
     ]
    }
   ],
   "source": [
    "from scipy.stats import pearsonr\n",
    "import seaborn as sns\n",
    "sns.set(style='whitegrid', context='notebook')"
   ]
  },
  {
   "cell_type": "code",
   "execution_count": 34,
   "metadata": {
    "collapsed": true
   },
   "outputs": [],
   "source": [
    "cols = ['Objective',  'Trustworthy','Accurate','Authoritative','Informative','Relevant_useful','Biased',\n",
    "        'Boring', 'Interesting', 'Pleasant_to_use', 'Clear','Enjoyable', 'Attractive',  'Coherent', 'Satisfying','Easy_to_Use',\n",
    "        'years_professional_programming_experience']"
   ]
  },
  {
   "cell_type": "code",
   "execution_count": 35,
   "metadata": {
    "collapsed": false
   },
   "outputs": [
    {
     "name": "stderr",
     "output_type": "stream",
     "text": [
      "/Users/jenniferstark/anaconda/lib/python3.4/site-packages/matplotlib/__init__.py:872: UserWarning: axes.color_cycle is deprecated and replaced with axes.prop_cycle; please use the latter.\n",
      "  warnings.warn(self.msg_depr % (key, alt_key))\n"
     ]
    },
    {
     "data": {
      "image/png": "[encoded data removed]",
      "text/plain": [
       "<matplotlib.figure.Figure at 0x119bce5c0>"
      ]
     },
     "metadata": {},
     "output_type": "display_data"
    }
   ],
   "source": [
    "tmp = data.dropna()\n",
    "cm = np.corrcoef(tmp[cols].values.T)\n",
    "sns.set(font_scale=1.5)\n",
    "hm = sns.heatmap(cm, cbar=True, annot=True, square=True, fmt='.2f', annot_kws={'size':7}, yticklabels=cols, xticklabels=cols)\n",
    "plt.show()"
   ]
  },
  {
   "cell_type": "markdown",
   "metadata": {},
   "source": [
    "### Does years experience correlate significantly with any of our outcomes (be it regarding trust in the information or the user experience)"
   ]
  },
  {
   "cell_type": "code",
   "execution_count": 36,
   "metadata": {
    "collapsed": false
   },
   "outputs": [
    {
     "name": "stdout",
     "output_type": "stream",
     "text": [
      "(132, 23)\n",
      "Trust-related terms:\n",
      "Years:Objective:  0.0354945076938\n",
      "Years:Trustworthy:  0.0350221925701\n",
      "Years:Accurate:  0.188104564526\n",
      "Years:Informative:  1.59424951122\n",
      "Years:Relevant:  0.0897365281334\n",
      "Years:Authoritative:  1.75994064262\n",
      "Years:Biased:  0.233165737096\n",
      "UX-related terms:\n",
      "\n",
      "Years:Boring:  5.90255349053\n",
      "Years:Interesting:  5.11648684641\n",
      "Years:Pleasant:  3.11521790987\n",
      "Years:Clear:  3.10728672599\n",
      "Years:Enjoyable:  3.24094318451\n",
      "Years:Attractive:  7.39008045261\n",
      "Years:Coherent:  1.77920529681\n",
      "Years:Satisfying:  0.0113335099372\n",
      "Years:Easy:  4.43818712786\n"
     ]
    }
   ],
   "source": [
    "tmp = data.dropna()\n",
    "print (tmp.shape)\n",
    "\n",
    "# calculate pearson correlation, and correct for mulitple comparisons: \n",
    "\n",
    "# Trust-related terms\n",
    "print(\"Trust-related terms:\")\n",
    "print(\"Years:Objective: \", (pearsonr(tmp.years_professional_programming_experience, tmp.Objective))[1]*7)\n",
    "print(\"Years:Trustworthy: \", (pearsonr(tmp.years_professional_programming_experience, tmp.Trustworthy))[1]*7)\n",
    "print(\"Years:Accurate: \", (pearsonr(tmp.years_professional_programming_experience, tmp.Accurate))[1]*7)\n",
    "print(\"Years:Informative: \", (pearsonr(tmp.years_professional_programming_experience, tmp.Informative))[1]*7)\n",
    "print(\"Years:Relevant: \", (pearsonr(tmp.years_professional_programming_experience, tmp.Relevant_useful))[1]*7)\n",
    "print(\"Years:Authoritative: \", (pearsonr(tmp.years_professional_programming_experience, tmp.Authoritative))[1]*7)\n",
    "print(\"Years:Biased: \", (pearsonr(tmp.years_professional_programming_experience, tmp.Biased))[1]*7)\n",
    "\n",
    "\n",
    "# UX-related terms\n",
    "print(\"UX-related terms:\")\n",
    "print(\"\\nYears:Boring: \", (pearsonr(tmp.years_professional_programming_experience, tmp.Boring))[1]*9)\n",
    "print(\"Years:Interesting: \", (pearsonr(tmp.years_professional_programming_experience, tmp.Interesting))[1]*9)\n",
    "print(\"Years:Pleasant: \", (pearsonr(tmp.years_professional_programming_experience, tmp.Pleasant_to_use))[1]*9)\n",
    "print(\"Years:Clear: \", (pearsonr(tmp.years_professional_programming_experience, tmp.Clear))[1]*9)\n",
    "print(\"Years:Enjoyable: \", (pearsonr(tmp.years_professional_programming_experience, tmp.Enjoyable))[1]*9)\n",
    "print(\"Years:Attractive: \", (pearsonr(tmp.years_professional_programming_experience, tmp.Attractive))[1]*9)\n",
    "print(\"Years:Coherent: \", (pearsonr(tmp.years_professional_programming_experience, tmp.Coherent))[1]*9)\n",
    "print(\"Years:Satisfying: \", (pearsonr(tmp.years_professional_programming_experience, tmp.Satisfying))[1]*9)\n",
    "print(\"Years:Easy: \", (pearsonr(tmp.years_professional_programming_experience, tmp.Easy_to_Use))[1]*9)"
   ]
  },
  {
   "cell_type": "markdown",
   "metadata": {},
   "source": [
    "* **\"Trustworthy\" , \"Satisfying\" , and \"Objective\" significantly correlate with Years Professional programming experience, with more programming experience leading to less trust in the information, less objectivity, and less satisfaction in using the app. Corrected for multiple comparisons**"
   ]
  },
  {
   "cell_type": "markdown",
   "metadata": {},
   "source": [
    "_____\n",
    "\n",
    "# Reduce Dimensions"
   ]
  },
  {
   "cell_type": "markdown",
   "metadata": {},
   "source": [
    "### Invert `Biased` and `Boring` so they have the same valence as the other categories, and rename as `Unbiased` and `Unboring`"
   ]
  },
  {
   "cell_type": "code",
   "execution_count": 37,
   "metadata": {
    "collapsed": true
   },
   "outputs": [],
   "source": [
    "def invert_score(col):\n",
    "    return 6-col\n",
    "data['UnBiased'] = data.Biased.apply(invert_score)\n",
    "data['UnBoring'] = data.Boring.apply(invert_score)"
   ]
  },
  {
   "cell_type": "markdown",
   "metadata": {
    "collapsed": true
   },
   "source": [
    "## Factor Analysis for Trust-related terms\n",
    "http://scikit-learn.org/stable/modules/generated/sklearn.decomposition.FactorAnalysis.html"
   ]
  },
  {
   "cell_type": "code",
   "execution_count": 38,
   "metadata": {
    "collapsed": true
   },
   "outputs": [],
   "source": [
    "from sklearn.decomposition import FactorAnalysis"
   ]
  },
  {
   "cell_type": "code",
   "execution_count": 39,
   "metadata": {
    "collapsed": true
   },
   "outputs": [],
   "source": [
    "trust = ['Objective',\n",
    " 'Trustworthy',\n",
    " 'Accurate',\n",
    " 'Informative',\n",
    " 'Authoritative',\n",
    " 'UnBiased',          # changed this from 'Biased' to 'UnBiased' after inverting the sign above\n",
    " 'Relevant_useful']"
   ]
  },
  {
   "cell_type": "code",
   "execution_count": 40,
   "metadata": {
    "collapsed": false
   },
   "outputs": [
    {
     "data": {
      "text/html": [
       "<div>\n",
       "<table border=\"1\" class=\"dataframe\">\n",
       "  <thead>\n",
       "    <tr style=\"text-align: right;\">\n",
       "      <th></th>\n",
       "      <th>Objective</th>\n",
       "      <th>Trustworthy</th>\n",
       "      <th>Accurate</th>\n",
       "      <th>Informative</th>\n",
       "      <th>Authoritative</th>\n",
       "      <th>UnBiased</th>\n",
       "      <th>Relevant_useful</th>\n",
       "    </tr>\n",
       "  </thead>\n",
       "  <tbody>\n",
       "    <tr>\n",
       "      <th>0</th>\n",
       "      <td>0.919023</td>\n",
       "      <td>1.054164</td>\n",
       "      <td>1.049714</td>\n",
       "      <td>0.836509</td>\n",
       "      <td>0.753292</td>\n",
       "      <td>0.702125</td>\n",
       "      <td>0.982203</td>\n",
       "    </tr>\n",
       "    <tr>\n",
       "      <th>1</th>\n",
       "      <td>-0.133238</td>\n",
       "      <td>-0.043936</td>\n",
       "      <td>-0.073483</td>\n",
       "      <td>0.210059</td>\n",
       "      <td>0.168298</td>\n",
       "      <td>-0.188713</td>\n",
       "      <td>0.151906</td>\n",
       "    </tr>\n",
       "    <tr>\n",
       "      <th>2</th>\n",
       "      <td>0.004823</td>\n",
       "      <td>-0.083418</td>\n",
       "      <td>-0.047316</td>\n",
       "      <td>0.086499</td>\n",
       "      <td>-0.197791</td>\n",
       "      <td>0.122914</td>\n",
       "      <td>0.116052</td>\n",
       "    </tr>\n",
       "    <tr>\n",
       "      <th>3</th>\n",
       "      <td>-0.000000</td>\n",
       "      <td>0.000000</td>\n",
       "      <td>0.000000</td>\n",
       "      <td>0.000000</td>\n",
       "      <td>-0.000000</td>\n",
       "      <td>-0.000000</td>\n",
       "      <td>-0.000000</td>\n",
       "    </tr>\n",
       "    <tr>\n",
       "      <th>4</th>\n",
       "      <td>0.000000</td>\n",
       "      <td>-0.000000</td>\n",
       "      <td>-0.000000</td>\n",
       "      <td>0.000000</td>\n",
       "      <td>0.000000</td>\n",
       "      <td>-0.000000</td>\n",
       "      <td>-0.000000</td>\n",
       "    </tr>\n",
       "    <tr>\n",
       "      <th>5</th>\n",
       "      <td>0.000000</td>\n",
       "      <td>-0.000000</td>\n",
       "      <td>0.000000</td>\n",
       "      <td>-0.000000</td>\n",
       "      <td>0.000000</td>\n",
       "      <td>-0.000000</td>\n",
       "      <td>0.000000</td>\n",
       "    </tr>\n",
       "    <tr>\n",
       "      <th>6</th>\n",
       "      <td>0.000000</td>\n",
       "      <td>0.000000</td>\n",
       "      <td>-0.000000</td>\n",
       "      <td>-0.000000</td>\n",
       "      <td>-0.000000</td>\n",
       "      <td>-0.000000</td>\n",
       "      <td>0.000000</td>\n",
       "    </tr>\n",
       "  </tbody>\n",
       "</table>\n",
       "</div>"
      ],
      "text/plain": [
       "   Objective  Trustworthy  Accurate  Informative  Authoritative  UnBiased  Relevant_useful\n",
       "0   0.919023     1.054164  1.049714     0.836509       0.753292  0.702125         0.982203\n",
       "1  -0.133238    -0.043936 -0.073483     0.210059       0.168298 -0.188713         0.151906\n",
       "2   0.004823    -0.083418 -0.047316     0.086499      -0.197791  0.122914         0.116052\n",
       "3  -0.000000     0.000000  0.000000     0.000000      -0.000000 -0.000000        -0.000000\n",
       "4   0.000000    -0.000000 -0.000000     0.000000       0.000000 -0.000000        -0.000000\n",
       "5   0.000000    -0.000000  0.000000    -0.000000       0.000000 -0.000000         0.000000\n",
       "6   0.000000     0.000000 -0.000000    -0.000000      -0.000000 -0.000000         0.000000"
      ]
     },
     "execution_count": 40,
     "metadata": {},
     "output_type": "execute_result"
    }
   ],
   "source": [
    "X = data[trust].dropna()\n",
    "fa = FactorAnalysis(n_components=len(trust),svd_method='lapack',).fit(X)\n",
    "dataDF = pd.DataFrame(fa.components_,columns=trust)\n",
    "dataDF"
   ]
  },
  {
   "cell_type": "markdown",
   "metadata": {},
   "source": [
    "* **Factor analysis found only 3 components out of a possible 7.** \n",
    "* **Re-run the analysis specifying 3 components in case this changes any of the values:**"
   ]
  },
  {
   "cell_type": "code",
   "execution_count": 41,
   "metadata": {
    "collapsed": false
   },
   "outputs": [
    {
     "data": {
      "text/html": [
       "<div>\n",
       "<table border=\"1\" class=\"dataframe\">\n",
       "  <thead>\n",
       "    <tr style=\"text-align: right;\">\n",
       "      <th></th>\n",
       "      <th>Objective</th>\n",
       "      <th>Trustworthy</th>\n",
       "      <th>Accurate</th>\n",
       "      <th>Informative</th>\n",
       "      <th>Authoritative</th>\n",
       "      <th>UnBiased</th>\n",
       "      <th>Relevant_useful</th>\n",
       "    </tr>\n",
       "  </thead>\n",
       "  <tbody>\n",
       "    <tr>\n",
       "      <th>0</th>\n",
       "      <td>0.928467</td>\n",
       "      <td>1.082678</td>\n",
       "      <td>1.072414</td>\n",
       "      <td>0.846223</td>\n",
       "      <td>0.743928</td>\n",
       "      <td>0.719066</td>\n",
       "      <td>0.996833</td>\n",
       "    </tr>\n",
       "    <tr>\n",
       "      <th>1</th>\n",
       "      <td>-0.155672</td>\n",
       "      <td>-0.114378</td>\n",
       "      <td>-0.115236</td>\n",
       "      <td>0.384637</td>\n",
       "      <td>0.103396</td>\n",
       "      <td>-0.233722</td>\n",
       "      <td>0.293703</td>\n",
       "    </tr>\n",
       "    <tr>\n",
       "      <th>2</th>\n",
       "      <td>0.066586</td>\n",
       "      <td>-0.189152</td>\n",
       "      <td>-0.119843</td>\n",
       "      <td>0.055978</td>\n",
       "      <td>-0.213313</td>\n",
       "      <td>0.398721</td>\n",
       "      <td>0.141062</td>\n",
       "    </tr>\n",
       "  </tbody>\n",
       "</table>\n",
       "</div>"
      ],
      "text/plain": [
       "   Objective  Trustworthy  Accurate  Informative  Authoritative  UnBiased  Relevant_useful\n",
       "0   0.928467     1.082678  1.072414     0.846223       0.743928  0.719066         0.996833\n",
       "1  -0.155672    -0.114378 -0.115236     0.384637       0.103396 -0.233722         0.293703\n",
       "2   0.066586    -0.189152 -0.119843     0.055978      -0.213313  0.398721         0.141062"
      ]
     },
     "execution_count": 41,
     "metadata": {},
     "output_type": "execute_result"
    }
   ],
   "source": [
    "fa = FactorAnalysis(n_components=3,svd_method='lapack',).fit(X)\n",
    "dataDF = pd.DataFrame(fa.components_,columns=trust)\n",
    "dataDF"
   ]
  },
  {
   "cell_type": "code",
   "execution_count": 42,
   "metadata": {
    "collapsed": false
   },
   "outputs": [
    {
     "data": {
      "text/plain": [
       "(145, 7)"
      ]
     },
     "execution_count": 42,
     "metadata": {},
     "output_type": "execute_result"
    }
   ],
   "source": [
    "X.shape"
   ]
  },
  {
   "cell_type": "markdown",
   "metadata": {},
   "source": [
    "* **According to http://imaging.mrc-cbu.cam.ac.uk/statswiki/FAQ/thresholds , using a threshold for an n of 148, a coefficient threshold of 0.50 is required for a factor to be considered.  **\n",
    "* **Therefore, `trust` consists of one factor that includes _ALL_ of the features** "
   ]
  },
  {
   "cell_type": "markdown",
   "metadata": {},
   "source": [
    "## Validate 'trust' Factor with Cronbach's Alpha:"
   ]
  },
  {
   "cell_type": "markdown",
   "metadata": {},
   "source": [
    "from: https://github.com/statsmodels/statsmodels/issues/1272\n",
    "Works with pandas dataframes."
   ]
  },
  {
   "cell_type": "code",
   "execution_count": 43,
   "metadata": {
    "collapsed": true
   },
   "outputs": [],
   "source": [
    "def CronbachAlpha(itemscores):\n",
    "    itemscores = np.asarray(itemscores)\n",
    "    itemscores = itemscores[~np.isnan(itemscores).any(axis=1)]\n",
    "    itemvars = itemscores.var(axis=0, ddof=1)\n",
    "    tscores = itemscores.sum(axis=1)\n",
    "    nitems = itemscores.shape[1]\n",
    "    calpha = nitems / float(nitems-1) * (1 - itemvars.sum() / float(tscores.var(ddof=1)))\n",
    "\n",
    "    return calpha"
   ]
  },
  {
   "cell_type": "code",
   "execution_count": 44,
   "metadata": {
    "collapsed": false
   },
   "outputs": [
    {
     "data": {
      "text/plain": [
       "0.91954612491515997"
      ]
     },
     "execution_count": 44,
     "metadata": {},
     "output_type": "execute_result"
    }
   ],
   "source": [
    "CronbachAlpha(data[['Trustworthy', 'Accurate', 'Informative', 'Objective', 'Authoritative', 'UnBiased','Relevant_useful']])"
   ]
  },
  {
   "cell_type": "markdown",
   "metadata": {},
   "source": [
    "### According to Cronbach thresholds, consistency between all `trust` terms together is \"Excellent\". https://en.wikipedia.org/wiki/Cronbach%27s_alpha):\n",
    "\n",
    "Chronbach's alpha |  Internal consistency\n",
    "----------------- | ---------------------\n",
    "a ≥ 0.9           |   **Excellent**\n",
    "0.9 > a ≥ 0.8 | Good \n",
    "0.8 > a ≥ 0.7 | Acceptable\n",
    "0.7 > a ≥ 0.6  |Questionable"
   ]
  },
  {
   "cell_type": "markdown",
   "metadata": {},
   "source": [
    "## Factor Analysis for UX Factors"
   ]
  },
  {
   "cell_type": "code",
   "execution_count": 45,
   "metadata": {
    "collapsed": false
   },
   "outputs": [],
   "source": [
    "ux = ['Pleasant_to_use',\n",
    " 'Clear',\n",
    " 'Enjoyable',\n",
    " 'Attractive',\n",
    " 'Coherent',\n",
    " 'Satisfying',\n",
    " 'Easy_to_Use',\n",
    " 'UnBoring',   # changed this one from 'Boring' to 'UnBoring' after inverting the sign above\n",
    " 'Interesting']"
   ]
  },
  {
   "cell_type": "code",
   "execution_count": 46,
   "metadata": {
    "collapsed": false
   },
   "outputs": [
    {
     "data": {
      "text/html": [
       "<div>\n",
       "<table border=\"1\" class=\"dataframe\">\n",
       "  <thead>\n",
       "    <tr style=\"text-align: right;\">\n",
       "      <th></th>\n",
       "      <th>Pleasant_to_use</th>\n",
       "      <th>Clear</th>\n",
       "      <th>Enjoyable</th>\n",
       "      <th>Attractive</th>\n",
       "      <th>Coherent</th>\n",
       "      <th>Satisfying</th>\n",
       "      <th>Easy_to_Use</th>\n",
       "      <th>UnBoring</th>\n",
       "      <th>Interesting</th>\n",
       "    </tr>\n",
       "  </thead>\n",
       "  <tbody>\n",
       "    <tr>\n",
       "      <th>0</th>\n",
       "      <td>0.757945</td>\n",
       "      <td>0.783728</td>\n",
       "      <td>0.757933</td>\n",
       "      <td>0.712430</td>\n",
       "      <td>0.767021</td>\n",
       "      <td>0.858876</td>\n",
       "      <td>0.597925</td>\n",
       "      <td>0.721554</td>\n",
       "      <td>0.630934</td>\n",
       "    </tr>\n",
       "    <tr>\n",
       "      <th>1</th>\n",
       "      <td>-0.185387</td>\n",
       "      <td>-0.347952</td>\n",
       "      <td>0.289153</td>\n",
       "      <td>0.034329</td>\n",
       "      <td>-0.215897</td>\n",
       "      <td>0.094184</td>\n",
       "      <td>-0.309642</td>\n",
       "      <td>0.316293</td>\n",
       "      <td>0.321942</td>\n",
       "    </tr>\n",
       "    <tr>\n",
       "      <th>2</th>\n",
       "      <td>0.092718</td>\n",
       "      <td>-0.109483</td>\n",
       "      <td>0.068530</td>\n",
       "      <td>0.216547</td>\n",
       "      <td>-0.086710</td>\n",
       "      <td>-0.180375</td>\n",
       "      <td>0.048398</td>\n",
       "      <td>-0.020855</td>\n",
       "      <td>-0.031919</td>\n",
       "    </tr>\n",
       "    <tr>\n",
       "      <th>3</th>\n",
       "      <td>-0.000000</td>\n",
       "      <td>-0.000000</td>\n",
       "      <td>-0.000000</td>\n",
       "      <td>0.000000</td>\n",
       "      <td>0.000000</td>\n",
       "      <td>-0.000000</td>\n",
       "      <td>-0.000000</td>\n",
       "      <td>0.000000</td>\n",
       "      <td>-0.000000</td>\n",
       "    </tr>\n",
       "    <tr>\n",
       "      <th>4</th>\n",
       "      <td>0.000000</td>\n",
       "      <td>-0.000000</td>\n",
       "      <td>0.000000</td>\n",
       "      <td>-0.000000</td>\n",
       "      <td>-0.000000</td>\n",
       "      <td>-0.000000</td>\n",
       "      <td>0.000000</td>\n",
       "      <td>0.000000</td>\n",
       "      <td>-0.000000</td>\n",
       "    </tr>\n",
       "    <tr>\n",
       "      <th>5</th>\n",
       "      <td>-0.000000</td>\n",
       "      <td>0.000000</td>\n",
       "      <td>-0.000000</td>\n",
       "      <td>0.000000</td>\n",
       "      <td>-0.000000</td>\n",
       "      <td>-0.000000</td>\n",
       "      <td>-0.000000</td>\n",
       "      <td>0.000000</td>\n",
       "      <td>0.000000</td>\n",
       "    </tr>\n",
       "    <tr>\n",
       "      <th>6</th>\n",
       "      <td>-0.000000</td>\n",
       "      <td>-0.000000</td>\n",
       "      <td>-0.000000</td>\n",
       "      <td>0.000000</td>\n",
       "      <td>0.000000</td>\n",
       "      <td>-0.000000</td>\n",
       "      <td>0.000000</td>\n",
       "      <td>0.000000</td>\n",
       "      <td>0.000000</td>\n",
       "    </tr>\n",
       "    <tr>\n",
       "      <th>7</th>\n",
       "      <td>-0.000000</td>\n",
       "      <td>0.000000</td>\n",
       "      <td>-0.000000</td>\n",
       "      <td>0.000000</td>\n",
       "      <td>-0.000000</td>\n",
       "      <td>0.000000</td>\n",
       "      <td>-0.000000</td>\n",
       "      <td>0.000000</td>\n",
       "      <td>-0.000000</td>\n",
       "    </tr>\n",
       "    <tr>\n",
       "      <th>8</th>\n",
       "      <td>-0.000000</td>\n",
       "      <td>0.000000</td>\n",
       "      <td>0.000000</td>\n",
       "      <td>0.000000</td>\n",
       "      <td>0.000000</td>\n",
       "      <td>-0.000000</td>\n",
       "      <td>-0.000000</td>\n",
       "      <td>-0.000000</td>\n",
       "      <td>-0.000000</td>\n",
       "    </tr>\n",
       "  </tbody>\n",
       "</table>\n",
       "</div>"
      ],
      "text/plain": [
       "   Pleasant_to_use     Clear  Enjoyable  Attractive  Coherent  Satisfying  Easy_to_Use  UnBoring  Interesting\n",
       "0         0.757945  0.783728   0.757933    0.712430  0.767021    0.858876     0.597925  0.721554     0.630934\n",
       "1        -0.185387 -0.347952   0.289153    0.034329 -0.215897    0.094184    -0.309642  0.316293     0.321942\n",
       "2         0.092718 -0.109483   0.068530    0.216547 -0.086710   -0.180375     0.048398 -0.020855    -0.031919\n",
       "3        -0.000000 -0.000000  -0.000000    0.000000  0.000000   -0.000000    -0.000000  0.000000    -0.000000\n",
       "4         0.000000 -0.000000   0.000000   -0.000000 -0.000000   -0.000000     0.000000  0.000000    -0.000000\n",
       "5        -0.000000  0.000000  -0.000000    0.000000 -0.000000   -0.000000    -0.000000  0.000000     0.000000\n",
       "6        -0.000000 -0.000000  -0.000000    0.000000  0.000000   -0.000000     0.000000  0.000000     0.000000\n",
       "7        -0.000000  0.000000  -0.000000    0.000000 -0.000000    0.000000    -0.000000  0.000000    -0.000000\n",
       "8        -0.000000  0.000000   0.000000    0.000000  0.000000   -0.000000    -0.000000 -0.000000    -0.000000"
      ]
     },
     "execution_count": 46,
     "metadata": {},
     "output_type": "execute_result"
    }
   ],
   "source": [
    "X = data[ux].dropna()\n",
    "fa = FactorAnalysis(svd_method='lapack', n_components=len(ux)).fit(X)\n",
    "dataDF = pd.DataFrame(fa.components_,columns=ux)\n",
    "dataDF"
   ]
  },
  {
   "cell_type": "markdown",
   "metadata": {},
   "source": [
    "* **Factor analysis found only 3 components out of a possible 9.** \n",
    "* **Re-run the analysis specifying 3 components in case this changes any of the values:**"
   ]
  },
  {
   "cell_type": "code",
   "execution_count": 47,
   "metadata": {
    "collapsed": false
   },
   "outputs": [
    {
     "data": {
      "text/html": [
       "<div>\n",
       "<table border=\"1\" class=\"dataframe\">\n",
       "  <thead>\n",
       "    <tr style=\"text-align: right;\">\n",
       "      <th></th>\n",
       "      <th>Pleasant_to_use</th>\n",
       "      <th>Clear</th>\n",
       "      <th>Enjoyable</th>\n",
       "      <th>Attractive</th>\n",
       "      <th>Coherent</th>\n",
       "      <th>Satisfying</th>\n",
       "      <th>Easy_to_Use</th>\n",
       "      <th>UnBoring</th>\n",
       "      <th>Interesting</th>\n",
       "    </tr>\n",
       "  </thead>\n",
       "  <tbody>\n",
       "    <tr>\n",
       "      <th>0</th>\n",
       "      <td>0.795502</td>\n",
       "      <td>0.805535</td>\n",
       "      <td>0.778008</td>\n",
       "      <td>0.715692</td>\n",
       "      <td>0.763430</td>\n",
       "      <td>0.875507</td>\n",
       "      <td>0.613389</td>\n",
       "      <td>0.720921</td>\n",
       "      <td>0.636251</td>\n",
       "    </tr>\n",
       "    <tr>\n",
       "      <th>1</th>\n",
       "      <td>-0.245980</td>\n",
       "      <td>-0.373344</td>\n",
       "      <td>0.340510</td>\n",
       "      <td>0.023640</td>\n",
       "      <td>-0.198335</td>\n",
       "      <td>0.162762</td>\n",
       "      <td>-0.335829</td>\n",
       "      <td>0.363271</td>\n",
       "      <td>0.391029</td>\n",
       "    </tr>\n",
       "    <tr>\n",
       "      <th>2</th>\n",
       "      <td>0.172656</td>\n",
       "      <td>-0.253934</td>\n",
       "      <td>0.170829</td>\n",
       "      <td>0.258679</td>\n",
       "      <td>-0.129601</td>\n",
       "      <td>-0.329709</td>\n",
       "      <td>0.011741</td>\n",
       "      <td>0.033354</td>\n",
       "      <td>-0.058558</td>\n",
       "    </tr>\n",
       "  </tbody>\n",
       "</table>\n",
       "</div>"
      ],
      "text/plain": [
       "   Pleasant_to_use     Clear  Enjoyable  Attractive  Coherent  Satisfying  Easy_to_Use  UnBoring  Interesting\n",
       "0         0.795502  0.805535   0.778008    0.715692  0.763430    0.875507     0.613389  0.720921     0.636251\n",
       "1        -0.245980 -0.373344   0.340510    0.023640 -0.198335    0.162762    -0.335829  0.363271     0.391029\n",
       "2         0.172656 -0.253934   0.170829    0.258679 -0.129601   -0.329709     0.011741  0.033354    -0.058558"
      ]
     },
     "execution_count": 47,
     "metadata": {},
     "output_type": "execute_result"
    }
   ],
   "source": [
    "fa = FactorAnalysis(svd_method='lapack', n_components=3).fit(X)\n",
    "dataDF = pd.DataFrame(fa.components_,columns=ux)\n",
    "dataDF"
   ]
  },
  {
   "cell_type": "markdown",
   "metadata": {},
   "source": [
    "* **According to http://imaging.mrc-cbu.cam.ac.uk/statswiki/FAQ/thresholds , using a threshold for an n of 148, a coefficient threshold of 0.50 is required for a factor to be considered.  **\n",
    "* ** Here, `ux` contains one factor that includes _ALL_ of the features **"
   ]
  },
  {
   "cell_type": "markdown",
   "metadata": {},
   "source": [
    "#### Validating single UX factor with Cronbach's Alpha using _ALL_ terms:"
   ]
  },
  {
   "cell_type": "code",
   "execution_count": 48,
   "metadata": {
    "collapsed": false
   },
   "outputs": [
    {
     "data": {
      "text/plain": [
       "0.91062050056449129"
      ]
     },
     "execution_count": 48,
     "metadata": {},
     "output_type": "execute_result"
    }
   ],
   "source": [
    "CronbachAlpha(data[['Pleasant_to_use', 'Clear', 'Enjoyable', 'Attractive', 'Coherent', 'Satisfying','UnBoring', 'Interesting', 'Easy_to_Use']])"
   ]
  },
  {
   "cell_type": "markdown",
   "metadata": {},
   "source": [
    "# Evaluating effects upon \"Trust\" and UX based on participant interaction with the four transparency features"
   ]
  },
  {
   "cell_type": "markdown",
   "metadata": {},
   "source": [
    "### Create new \"trust\" and \"UX\" features based on dimensionality reduction analysis above."
   ]
  },
  {
   "cell_type": "code",
   "execution_count": 49,
   "metadata": {
    "collapsed": false
   },
   "outputs": [],
   "source": [
    "def new_dimension(data):\n",
    "    return (np.mean(data[['Informative','Objective', 'Trustworthy', 'Accurate', 'Authoritative', 'UnBiased','Relevant_useful']]))\n",
    "data['Trust'] = data.apply(lambda row:new_dimension(row),axis=1)"
   ]
  },
  {
   "cell_type": "code",
   "execution_count": 50,
   "metadata": {
    "collapsed": false
   },
   "outputs": [
    {
     "data": {
      "text/html": [
       "<div>\n",
       "<table border=\"1\" class=\"dataframe\">\n",
       "  <thead>\n",
       "    <tr style=\"text-align: right;\">\n",
       "      <th></th>\n",
       "      <th>Objective</th>\n",
       "      <th>Select_weighting_preset_for_ranking</th>\n",
       "      <th>Trustworthy</th>\n",
       "      <th>Accurate</th>\n",
       "      <th>Boring</th>\n",
       "      <th>Interesting</th>\n",
       "      <th>Pleasant_to_use</th>\n",
       "      <th>Clear</th>\n",
       "      <th>Informative</th>\n",
       "      <th>Enjoyable</th>\n",
       "      <th>Attractive</th>\n",
       "      <th>Relevant_useful</th>\n",
       "      <th>Coherent</th>\n",
       "      <th>Authoritative</th>\n",
       "      <th>Biased</th>\n",
       "      <th>Satisfying</th>\n",
       "      <th>Edit_ranking_weights_or_data_sources</th>\n",
       "      <th>Compare_two_rankings</th>\n",
       "      <th>Filter_visible_language_types_WebMobile</th>\n",
       "      <th>DOB</th>\n",
       "      <th>Gender</th>\n",
       "      <th>Easy_to_Use</th>\n",
       "      <th>years_professional_programming_experience</th>\n",
       "      <th>UnBiased</th>\n",
       "      <th>UnBoring</th>\n",
       "      <th>Trust</th>\n",
       "      <th>UX</th>\n",
       "    </tr>\n",
       "  </thead>\n",
       "  <tbody>\n",
       "    <tr>\n",
       "      <th>0</th>\n",
       "      <td>2.0</td>\n",
       "      <td>Used</td>\n",
       "      <td>3.0</td>\n",
       "      <td>3.0</td>\n",
       "      <td>3.0</td>\n",
       "      <td>4.0</td>\n",
       "      <td>2.0</td>\n",
       "      <td>4.0</td>\n",
       "      <td>5.0</td>\n",
       "      <td>1.0</td>\n",
       "      <td>2.0</td>\n",
       "      <td>5.0</td>\n",
       "      <td>3.0</td>\n",
       "      <td>3.0</td>\n",
       "      <td>3.0</td>\n",
       "      <td>2.0</td>\n",
       "      <td>Not_Know</td>\n",
       "      <td>Not_Know</td>\n",
       "      <td>Not_Used</td>\n",
       "      <td>1943</td>\n",
       "      <td>Male</td>\n",
       "      <td>4.0</td>\n",
       "      <td>30.0</td>\n",
       "      <td>3.0</td>\n",
       "      <td>3.0</td>\n",
       "      <td>3.428571</td>\n",
       "      <td>2.875</td>\n",
       "    </tr>\n",
       "    <tr>\n",
       "      <th>3</th>\n",
       "      <td>4.0</td>\n",
       "      <td>Used</td>\n",
       "      <td>4.0</td>\n",
       "      <td>4.0</td>\n",
       "      <td>2.0</td>\n",
       "      <td>5.0</td>\n",
       "      <td>5.0</td>\n",
       "      <td>5.0</td>\n",
       "      <td>4.0</td>\n",
       "      <td>3.0</td>\n",
       "      <td>4.0</td>\n",
       "      <td>3.0</td>\n",
       "      <td>4.0</td>\n",
       "      <td>4.0</td>\n",
       "      <td>3.0</td>\n",
       "      <td>4.0</td>\n",
       "      <td>Used</td>\n",
       "      <td>Not_Know</td>\n",
       "      <td>Used</td>\n",
       "      <td>1972</td>\n",
       "      <td>Male</td>\n",
       "      <td>5.0</td>\n",
       "      <td>18.0</td>\n",
       "      <td>3.0</td>\n",
       "      <td>4.0</td>\n",
       "      <td>3.714286</td>\n",
       "      <td>4.250</td>\n",
       "    </tr>\n",
       "    <tr>\n",
       "      <th>4</th>\n",
       "      <td>4.0</td>\n",
       "      <td>Used</td>\n",
       "      <td>5.0</td>\n",
       "      <td>4.0</td>\n",
       "      <td>1.0</td>\n",
       "      <td>5.0</td>\n",
       "      <td>4.0</td>\n",
       "      <td>5.0</td>\n",
       "      <td>5.0</td>\n",
       "      <td>5.0</td>\n",
       "      <td>4.0</td>\n",
       "      <td>4.0</td>\n",
       "      <td>3.0</td>\n",
       "      <td>5.0</td>\n",
       "      <td>2.0</td>\n",
       "      <td>5.0</td>\n",
       "      <td>Not_Used</td>\n",
       "      <td>Used</td>\n",
       "      <td>Used</td>\n",
       "      <td>1968</td>\n",
       "      <td>Male</td>\n",
       "      <td>5.0</td>\n",
       "      <td>20.0</td>\n",
       "      <td>4.0</td>\n",
       "      <td>5.0</td>\n",
       "      <td>4.428571</td>\n",
       "      <td>4.625</td>\n",
       "    </tr>\n",
       "    <tr>\n",
       "      <th>8</th>\n",
       "      <td>3.0</td>\n",
       "      <td>Used</td>\n",
       "      <td>3.0</td>\n",
       "      <td>3.0</td>\n",
       "      <td>3.0</td>\n",
       "      <td>3.0</td>\n",
       "      <td>3.0</td>\n",
       "      <td>3.0</td>\n",
       "      <td>3.0</td>\n",
       "      <td>3.0</td>\n",
       "      <td>3.0</td>\n",
       "      <td>3.0</td>\n",
       "      <td>3.0</td>\n",
       "      <td>3.0</td>\n",
       "      <td>3.0</td>\n",
       "      <td>3.0</td>\n",
       "      <td>Not_Know</td>\n",
       "      <td>Not_Know</td>\n",
       "      <td>Used</td>\n",
       "      <td>1985</td>\n",
       "      <td>Male</td>\n",
       "      <td>3.0</td>\n",
       "      <td>5.0</td>\n",
       "      <td>3.0</td>\n",
       "      <td>3.0</td>\n",
       "      <td>3.000000</td>\n",
       "      <td>3.000</td>\n",
       "    </tr>\n",
       "    <tr>\n",
       "      <th>9</th>\n",
       "      <td>1.0</td>\n",
       "      <td>Used</td>\n",
       "      <td>1.0</td>\n",
       "      <td>1.0</td>\n",
       "      <td>1.0</td>\n",
       "      <td>3.0</td>\n",
       "      <td>5.0</td>\n",
       "      <td>2.0</td>\n",
       "      <td>1.0</td>\n",
       "      <td>3.0</td>\n",
       "      <td>4.0</td>\n",
       "      <td>1.0</td>\n",
       "      <td>4.0</td>\n",
       "      <td>1.0</td>\n",
       "      <td>5.0</td>\n",
       "      <td>2.0</td>\n",
       "      <td>Used</td>\n",
       "      <td>Not_Used</td>\n",
       "      <td>Used</td>\n",
       "      <td>1984</td>\n",
       "      <td>Male</td>\n",
       "      <td>5.0</td>\n",
       "      <td>10.0</td>\n",
       "      <td>1.0</td>\n",
       "      <td>5.0</td>\n",
       "      <td>1.000000</td>\n",
       "      <td>3.500</td>\n",
       "    </tr>\n",
       "  </tbody>\n",
       "</table>\n",
       "</div>"
      ],
      "text/plain": [
       "   Objective Select_weighting_preset_for_ranking  Trustworthy  Accurate  Boring  Interesting  Pleasant_to_use  Clear  Informative  Enjoyable  Attractive  Relevant_useful  Coherent  Authoritative  Biased  Satisfying Edit_ranking_weights_or_data_sources Compare_two_rankings Filter_visible_language_types_WebMobile   DOB Gender  Easy_to_Use  years_professional_programming_experience  UnBiased  UnBoring     Trust     UX\n",
       "0        2.0                                Used          3.0       3.0     3.0          4.0              2.0    4.0          5.0        1.0         2.0              5.0       3.0            3.0     3.0         2.0                             Not_Know             Not_Know                                Not_Used  1943   Male          4.0                                       30.0       3.0       3.0  3.428571  2.875\n",
       "3        4.0                                Used          4.0       4.0     2.0          5.0              5.0    5.0          4.0        3.0         4.0              3.0       4.0            4.0     3.0         4.0                                 Used             Not_Know                                    Used  1972   Male          5.0                                       18.0       3.0       4.0  3.714286  4.250\n",
       "4        4.0                                Used          5.0       4.0     1.0          5.0              4.0    5.0          5.0        5.0         4.0              4.0       3.0            5.0     2.0         5.0                             Not_Used                 Used                                    Used  1968   Male          5.0                                       20.0       4.0       5.0  4.428571  4.625\n",
       "8        3.0                                Used          3.0       3.0     3.0          3.0              3.0    3.0          3.0        3.0         3.0              3.0       3.0            3.0     3.0         3.0                             Not_Know             Not_Know                                    Used  1985   Male          3.0                                        5.0       3.0       3.0  3.000000  3.000\n",
       "9        1.0                                Used          1.0       1.0     1.0          3.0              5.0    2.0          1.0        3.0         4.0              1.0       4.0            1.0     5.0         2.0                                 Used             Not_Used                                    Used  1984   Male          5.0                                       10.0       1.0       5.0  1.000000  3.500"
      ]
     },
     "execution_count": 50,
     "metadata": {},
     "output_type": "execute_result"
    }
   ],
   "source": [
    "def new_dimension(data):\n",
    "    return (np.mean(data[['Pleasant','Clear','Enjoyable','Attractive','Coherent','Satisfying','UnBoring','Interesting', 'Easy_to_Use']]))\n",
    "data['UX'] = data.apply(lambda row:new_dimension(row),axis=1)\n",
    "data.head()"
   ]
  },
  {
   "cell_type": "markdown",
   "metadata": {},
   "source": [
    "# Testing effects of interaction (`Used`, `Not Used`, and `Didn't Know`) with each of the transparency features on `Trust` and the user experience `UX`:"
   ]
  },
  {
   "cell_type": "code",
   "execution_count": 51,
   "metadata": {
    "collapsed": true
   },
   "outputs": [],
   "source": [
    "from scipy.stats import kruskal"
   ]
  },
  {
   "cell_type": "code",
   "execution_count": 52,
   "metadata": {
    "collapsed": false
   },
   "outputs": [
    {
     "data": {
      "text/plain": [
       "KruskalResult(statistic=0.54410662232360585, pvalue=0.76181364683666031)"
      ]
     },
     "execution_count": 52,
     "metadata": {},
     "output_type": "execute_result"
    }
   ],
   "source": [
    "kruskal(data.Trust[data.Select_weighting_preset_for_ranking == \"Not_Know\"], \n",
    "        data.Trust[data.Select_weighting_preset_for_ranking == \"Not_Used\"],\n",
    "        data.Trust[data.Select_weighting_preset_for_ranking == \"Used\"])"
   ]
  },
  {
   "cell_type": "code",
   "execution_count": 53,
   "metadata": {
    "collapsed": false
   },
   "outputs": [
    {
     "data": {
      "text/plain": [
       "KruskalResult(statistic=2.2020311304725362, pvalue=0.33253320299630434)"
      ]
     },
     "execution_count": 53,
     "metadata": {},
     "output_type": "execute_result"
    }
   ],
   "source": [
    "kruskal(data.Trust[data.Edit_ranking_weights_or_data_sources == \"Not_Know\"], \n",
    "        data.Trust[data.Edit_ranking_weights_or_data_sources == \"Not_Used\"],\n",
    "        data.Trust[data.Edit_ranking_weights_or_data_sources == \"Used\"])"
   ]
  },
  {
   "cell_type": "code",
   "execution_count": 54,
   "metadata": {
    "collapsed": false
   },
   "outputs": [
    {
     "data": {
      "text/plain": [
       "KruskalResult(statistic=4.7003882393755365, pvalue=0.095350650980313353)"
      ]
     },
     "execution_count": 54,
     "metadata": {},
     "output_type": "execute_result"
    }
   ],
   "source": [
    "kruskal(data.Trust[data.Compare_two_rankings == \"Not_Know\"], \n",
    "        data.Trust[data.Compare_two_rankings == \"Not_Used\"],\n",
    "        data.Trust[data.Compare_two_rankings == \"Used\"])"
   ]
  },
  {
   "cell_type": "code",
   "execution_count": 55,
   "metadata": {
    "collapsed": false
   },
   "outputs": [
    {
     "data": {
      "text/plain": [
       "KruskalResult(statistic=0.14616575169674165, pvalue=0.92952379176070798)"
      ]
     },
     "execution_count": 55,
     "metadata": {},
     "output_type": "execute_result"
    }
   ],
   "source": [
    "kruskal(data.Trust[data.Filter_visible_language_types_WebMobile == \"Not_Know\"], \n",
    "        data.Trust[data.Filter_visible_language_types_WebMobile == \"Not_Used\"],\n",
    "        data.Trust[data.Filter_visible_language_types_WebMobile == \"Used\"])"
   ]
  },
  {
   "cell_type": "code",
   "execution_count": 56,
   "metadata": {
    "collapsed": false
   },
   "outputs": [
    {
     "data": {
      "text/plain": [
       "KruskalResult(statistic=0.86065749360832144, pvalue=0.65029527708520718)"
      ]
     },
     "execution_count": 56,
     "metadata": {},
     "output_type": "execute_result"
    }
   ],
   "source": [
    "kruskal(data.UX[data.Select_weighting_preset_for_ranking == \"Not_Know\"], \n",
    "        data.UX[data.Select_weighting_preset_for_ranking == \"Not_Used\"],\n",
    "        data.UX[data.Select_weighting_preset_for_ranking == \"Used\"])"
   ]
  },
  {
   "cell_type": "code",
   "execution_count": 57,
   "metadata": {
    "collapsed": false
   },
   "outputs": [
    {
     "data": {
      "text/plain": [
       "KruskalResult(statistic=5.7516711523275781, pvalue=0.056369019211393125)"
      ]
     },
     "execution_count": 57,
     "metadata": {},
     "output_type": "execute_result"
    }
   ],
   "source": [
    "kruskal(data.UX[data.Edit_ranking_weights_or_data_sources == \"Not_Know\"], \n",
    "        data.UX[data.Edit_ranking_weights_or_data_sources == \"Not_Used\"],\n",
    "        data.UX[data.Edit_ranking_weights_or_data_sources == \"Used\"])"
   ]
  },
  {
   "cell_type": "code",
   "execution_count": 58,
   "metadata": {
    "collapsed": false
   },
   "outputs": [
    {
     "data": {
      "text/plain": [
       "KruskalResult(statistic=4.9709637338999579, pvalue=0.083285412353641397)"
      ]
     },
     "execution_count": 58,
     "metadata": {},
     "output_type": "execute_result"
    }
   ],
   "source": [
    "kruskal(data.UX[data.Compare_two_rankings == \"Not_Know\"], \n",
    "        data.UX[data.Compare_two_rankings == \"Not_Used\"],\n",
    "        data.UX[data.Compare_two_rankings == \"Used\"])"
   ]
  },
  {
   "cell_type": "code",
   "execution_count": 59,
   "metadata": {
    "collapsed": false
   },
   "outputs": [
    {
     "data": {
      "text/plain": [
       "KruskalResult(statistic=1.0013980585213003, pvalue=0.60610682518763892)"
      ]
     },
     "execution_count": 59,
     "metadata": {},
     "output_type": "execute_result"
    }
   ],
   "source": [
    "kruskal(data.UX[data.Filter_visible_language_types_WebMobile == \"Not_Know\"], \n",
    "        data.UX[data.Filter_visible_language_types_WebMobile == \"Not_Used\"],\n",
    "        data.UX[data.Filter_visible_language_types_WebMobile == \"Used\"])"
   ]
  },
  {
   "cell_type": "markdown",
   "metadata": {},
   "source": [
    "## Graphs"
   ]
  },
  {
   "cell_type": "code",
   "execution_count": 60,
   "metadata": {
    "collapsed": true
   },
   "outputs": [],
   "source": [
    "import seaborn as sns"
   ]
  },
  {
   "cell_type": "code",
   "execution_count": 61,
   "metadata": {
    "collapsed": false
   },
   "outputs": [
    {
     "name": "stderr",
     "output_type": "stream",
     "text": [
      "/Users/jenniferstark/anaconda/lib/python3.4/site-packages/matplotlib/__init__.py:892: UserWarning: axes.color_cycle is deprecated and replaced with axes.prop_cycle; please use the latter.\n",
      "  warnings.warn(self.msg_depr % (key, alt_key))\n"
     ]
    },
    {
     "data": {
      "image/png": "[encoded data removed]",
      "text/plain": [
       "<matplotlib.figure.Figure at 0x11e204710>"
      ]
     },
     "metadata": {},
     "output_type": "display_data"
    }
   ],
   "source": [
    "palette = {'Used':'#164040', 'Not_Used':'#2B7F7F', 'Not_Know':'#41BFBF'}\n",
    "\n",
    "\n",
    "def graphic(df, y_var1, y_var2=None):\n",
    "    sns.set_context(\"poster\")\n",
    "    g = sns.PairGrid(df,\n",
    "                 x_vars=[\"Select_weighting_preset_for_ranking\",\n",
    "                         \"Edit_ranking_weights_or_data_sources\",\n",
    "                         \"Compare_two_rankings\",\n",
    "                         \"Filter_visible_language_types_WebMobile\"],\n",
    "                 y_vars=[y_var1, y_var2],\n",
    "                 aspect=1, size=5)\n",
    "    g.map(sns.barplot,palette=palette, order=['Used', 'Not_Used', 'Not_Know'])\n",
    "    #g.savefig('Trust_and_UX_graph.svg')\n",
    "    g.savefig('Trust_and_UX_graph.png')\n",
    "\n",
    "graphic(data, \"Trust\", \"UX\")"
   ]
  },
  {
   "cell_type": "markdown",
   "metadata": {},
   "source": [
    "### Correlation between Years of experience and Trust and UX"
   ]
  },
  {
   "cell_type": "code",
   "execution_count": 62,
   "metadata": {
    "collapsed": false
   },
   "outputs": [
    {
     "name": "stdout",
     "output_type": "stream",
     "text": [
      "(132, 27)\n",
      "Years:Trust:  (-0.22514389018024938, 0.0094448892078768283)\n",
      "Years:UX:  (-0.098553927131066463, 0.26089921256045939)\n"
     ]
    }
   ],
   "source": [
    "tmp = data.dropna()\n",
    "print (tmp.shape)\n",
    "\n",
    "print(\"Years:Trust: \", pearsonr(tmp.years_professional_programming_experience, tmp.Trust))\n",
    "print(\"Years:UX: \", pearsonr(tmp.years_professional_programming_experience, tmp.UX))"
   ]
  },
  {
   "cell_type": "markdown",
   "metadata": {},
   "source": [
    "## Create new dataset \"KNOWN\" to compare effects of _knowing_ about a transparency feature upon `\"Trust\"` and `\"UX\"`"
   ]
  },
  {
   "cell_type": "code",
   "execution_count": 63,
   "metadata": {
    "collapsed": false
   },
   "outputs": [
    {
     "name": "stderr",
     "output_type": "stream",
     "text": [
      "/Users/jenniferstark/anaconda/lib/python3.4/site-packages/ipykernel/__main__.py:3: SettingWithCopyWarning: \n",
      "A value is trying to be set on a copy of a slice from a DataFrame\n",
      "\n",
      "See the caveats in the documentation: http://pandas.pydata.org/pandas-docs/stable/indexing.html#indexing-view-versus-copy\n",
      "  app.launch_new_instance()\n",
      "/Users/jenniferstark/anaconda/lib/python3.4/site-packages/ipykernel/__main__.py:4: SettingWithCopyWarning: \n",
      "A value is trying to be set on a copy of a slice from a DataFrame\n",
      "\n",
      "See the caveats in the documentation: http://pandas.pydata.org/pandas-docs/stable/indexing.html#indexing-view-versus-copy\n"
     ]
    },
    {
     "data": {
      "text/html": [
       "<div>\n",
       "<table border=\"1\" class=\"dataframe\">\n",
       "  <thead>\n",
       "    <tr style=\"text-align: right;\">\n",
       "      <th></th>\n",
       "      <th>Trust</th>\n",
       "      <th>UX</th>\n",
       "      <th>Select_weighting_preset_for_ranking</th>\n",
       "      <th>Edit_ranking_weights_or_data_sources</th>\n",
       "      <th>Compare_two_rankings</th>\n",
       "      <th>Filter_visible_language_types_WebMobile</th>\n",
       "    </tr>\n",
       "  </thead>\n",
       "  <tbody>\n",
       "    <tr>\n",
       "      <th>0</th>\n",
       "      <td>3.428571</td>\n",
       "      <td>2.875</td>\n",
       "      <td>Known</td>\n",
       "      <td>Not_Know</td>\n",
       "      <td>Not_Know</td>\n",
       "      <td>Known</td>\n",
       "    </tr>\n",
       "    <tr>\n",
       "      <th>3</th>\n",
       "      <td>3.714286</td>\n",
       "      <td>4.250</td>\n",
       "      <td>Known</td>\n",
       "      <td>Known</td>\n",
       "      <td>Not_Know</td>\n",
       "      <td>Known</td>\n",
       "    </tr>\n",
       "    <tr>\n",
       "      <th>4</th>\n",
       "      <td>4.428571</td>\n",
       "      <td>4.625</td>\n",
       "      <td>Known</td>\n",
       "      <td>Known</td>\n",
       "      <td>Known</td>\n",
       "      <td>Known</td>\n",
       "    </tr>\n",
       "    <tr>\n",
       "      <th>8</th>\n",
       "      <td>3.000000</td>\n",
       "      <td>3.000</td>\n",
       "      <td>Known</td>\n",
       "      <td>Not_Know</td>\n",
       "      <td>Not_Know</td>\n",
       "      <td>Known</td>\n",
       "    </tr>\n",
       "    <tr>\n",
       "      <th>9</th>\n",
       "      <td>1.000000</td>\n",
       "      <td>3.500</td>\n",
       "      <td>Known</td>\n",
       "      <td>Known</td>\n",
       "      <td>Known</td>\n",
       "      <td>Known</td>\n",
       "    </tr>\n",
       "  </tbody>\n",
       "</table>\n",
       "</div>"
      ],
      "text/plain": [
       "      Trust     UX Select_weighting_preset_for_ranking Edit_ranking_weights_or_data_sources Compare_two_rankings Filter_visible_language_types_WebMobile\n",
       "0  3.428571  2.875                               Known                             Not_Know             Not_Know                                   Known\n",
       "3  3.714286  4.250                               Known                                Known             Not_Know                                   Known\n",
       "4  4.428571  4.625                               Known                                Known                Known                                   Known\n",
       "8  3.000000  3.000                               Known                             Not_Know             Not_Know                                   Known\n",
       "9  1.000000  3.500                               Known                                Known                Known                                   Known"
      ]
     },
     "execution_count": 63,
     "metadata": {},
     "output_type": "execute_result"
    }
   ],
   "source": [
    "KNOWN = data[['Trust', 'UX','Select_weighting_preset_for_ranking', 'Edit_ranking_weights_or_data_sources',\n",
    "             'Compare_two_rankings', 'Filter_visible_language_types_WebMobile']]\n",
    "KNOWN.replace('Not_Used', 'Known', inplace=True)\n",
    "KNOWN.replace('Used', 'Known', inplace=True)\n",
    "KNOWN.head()"
   ]
  },
  {
   "cell_type": "markdown",
   "metadata": {},
   "source": [
    "## Create new dataset \"USED\" to compare effects of _using_ a transparency feature upon `\"Trust\"` and `\"UX\"`"
   ]
  },
  {
   "cell_type": "code",
   "execution_count": 64,
   "metadata": {
    "collapsed": false
   },
   "outputs": [
    {
     "name": "stderr",
     "output_type": "stream",
     "text": [
      "/Users/jenniferstark/anaconda/lib/python3.4/site-packages/ipykernel/__main__.py:3: SettingWithCopyWarning: \n",
      "A value is trying to be set on a copy of a slice from a DataFrame\n",
      "\n",
      "See the caveats in the documentation: http://pandas.pydata.org/pandas-docs/stable/indexing.html#indexing-view-versus-copy\n",
      "  app.launch_new_instance()\n"
     ]
    },
    {
     "data": {
      "text/html": [
       "<div>\n",
       "<table border=\"1\" class=\"dataframe\">\n",
       "  <thead>\n",
       "    <tr style=\"text-align: right;\">\n",
       "      <th></th>\n",
       "      <th>Trust</th>\n",
       "      <th>UX</th>\n",
       "      <th>Select_weighting_preset_for_ranking</th>\n",
       "      <th>Edit_ranking_weights_or_data_sources</th>\n",
       "      <th>Compare_two_rankings</th>\n",
       "      <th>Filter_visible_language_types_WebMobile</th>\n",
       "    </tr>\n",
       "  </thead>\n",
       "  <tbody>\n",
       "    <tr>\n",
       "      <th>0</th>\n",
       "      <td>3.428571</td>\n",
       "      <td>2.875</td>\n",
       "      <td>Used</td>\n",
       "      <td>Not_Used</td>\n",
       "      <td>Not_Used</td>\n",
       "      <td>Not_Used</td>\n",
       "    </tr>\n",
       "    <tr>\n",
       "      <th>3</th>\n",
       "      <td>3.714286</td>\n",
       "      <td>4.250</td>\n",
       "      <td>Used</td>\n",
       "      <td>Used</td>\n",
       "      <td>Not_Used</td>\n",
       "      <td>Used</td>\n",
       "    </tr>\n",
       "    <tr>\n",
       "      <th>4</th>\n",
       "      <td>4.428571</td>\n",
       "      <td>4.625</td>\n",
       "      <td>Used</td>\n",
       "      <td>Not_Used</td>\n",
       "      <td>Used</td>\n",
       "      <td>Used</td>\n",
       "    </tr>\n",
       "    <tr>\n",
       "      <th>8</th>\n",
       "      <td>3.000000</td>\n",
       "      <td>3.000</td>\n",
       "      <td>Used</td>\n",
       "      <td>Not_Used</td>\n",
       "      <td>Not_Used</td>\n",
       "      <td>Used</td>\n",
       "    </tr>\n",
       "    <tr>\n",
       "      <th>9</th>\n",
       "      <td>1.000000</td>\n",
       "      <td>3.500</td>\n",
       "      <td>Used</td>\n",
       "      <td>Used</td>\n",
       "      <td>Not_Used</td>\n",
       "      <td>Used</td>\n",
       "    </tr>\n",
       "  </tbody>\n",
       "</table>\n",
       "</div>"
      ],
      "text/plain": [
       "      Trust     UX Select_weighting_preset_for_ranking Edit_ranking_weights_or_data_sources Compare_two_rankings Filter_visible_language_types_WebMobile\n",
       "0  3.428571  2.875                                Used                             Not_Used             Not_Used                                Not_Used\n",
       "3  3.714286  4.250                                Used                                 Used             Not_Used                                    Used\n",
       "4  4.428571  4.625                                Used                             Not_Used                 Used                                    Used\n",
       "8  3.000000  3.000                                Used                             Not_Used             Not_Used                                    Used\n",
       "9  1.000000  3.500                                Used                                 Used             Not_Used                                    Used"
      ]
     },
     "execution_count": 64,
     "metadata": {},
     "output_type": "execute_result"
    }
   ],
   "source": [
    "USED = data[['Trust', 'UX','Select_weighting_preset_for_ranking', 'Edit_ranking_weights_or_data_sources',\n",
    "             'Compare_two_rankings', 'Filter_visible_language_types_WebMobile']]\n",
    "USED.replace('Not_Know', 'Not_Used', inplace=True)\n",
    "USED.head()"
   ]
  },
  {
   "cell_type": "markdown",
   "metadata": {},
   "source": [
    "## Test effects of _knowing_ about and of _using_ each transparency feature on \"trust\" in the information:"
   ]
  },
  {
   "cell_type": "markdown",
   "metadata": {},
   "source": [
    "### Select weighting preset for ranking:"
   ]
  },
  {
   "cell_type": "code",
   "execution_count": 65,
   "metadata": {
    "collapsed": false
   },
   "outputs": [
    {
     "name": "stdout",
     "output_type": "stream",
     "text": [
      "Known       128\n",
      "Not_Know     19\n",
      "Name: Select_weighting_preset_for_ranking, dtype: int64\n",
      "KNOWN?    MannwhitneyuResult(statistic=1343.5, pvalue=0.46249786712826901)\n"
     ]
    }
   ],
   "source": [
    "print(KNOWN.Select_weighting_preset_for_ranking.value_counts())\n",
    "print(\"KNOWN?   \", \n",
    "      mannwhitneyu(KNOWN.Trust[KNOWN.Select_weighting_preset_for_ranking == 'Known'].dropna(),\n",
    "                   KNOWN.Trust[KNOWN.Select_weighting_preset_for_ranking == 'Not_Know'].dropna(),alternative='two-sided'))"
   ]
  },
  {
   "cell_type": "code",
   "execution_count": 66,
   "metadata": {
    "collapsed": false
   },
   "outputs": [
    {
     "name": "stdout",
     "output_type": "stream",
     "text": [
      "Used        104\n",
      "Not_Used     43\n",
      "Name: Select_weighting_preset_for_ranking, dtype: int64\n",
      "USED?    MannwhitneyuResult(statistic=2340.0, pvalue=0.65879919862624048)\n"
     ]
    }
   ],
   "source": [
    "print(USED.Select_weighting_preset_for_ranking.value_counts())\n",
    "print(\"USED?   \", \n",
    "      mannwhitneyu(USED.Trust[USED.Select_weighting_preset_for_ranking == 'Used'].dropna(), \n",
    "                   USED.Trust[USED.Select_weighting_preset_for_ranking == 'Not_Used'].dropna(),alternative='two-sided'))"
   ]
  },
  {
   "cell_type": "markdown",
   "metadata": {},
   "source": [
    "### Edit ranking or data sources:"
   ]
  },
  {
   "cell_type": "code",
   "execution_count": 67,
   "metadata": {
    "collapsed": false
   },
   "outputs": [
    {
     "name": "stdout",
     "output_type": "stream",
     "text": [
      "Known       122\n",
      "Not_Know     25\n",
      "Name: Edit_ranking_weights_or_data_sources, dtype: int64\n",
      "KNOWN?    MannwhitneyuResult(statistic=1802.5, pvalue=0.15245831412100461)\n"
     ]
    }
   ],
   "source": [
    "print(KNOWN.Edit_ranking_weights_or_data_sources.value_counts())\n",
    "print(\"KNOWN?   \", \n",
    "      mannwhitneyu(KNOWN.Trust[KNOWN.Edit_ranking_weights_or_data_sources == 'Known'].dropna(), \n",
    "                   KNOWN.Trust[KNOWN.Edit_ranking_weights_or_data_sources == 'Not_Know'].dropna(),alternative='two-sided'))"
   ]
  },
  {
   "cell_type": "code",
   "execution_count": 68,
   "metadata": {
    "collapsed": false
   },
   "outputs": [
    {
     "name": "stdout",
     "output_type": "stream",
     "text": [
      "Not_Used    89\n",
      "Used        58\n",
      "Name: Edit_ranking_weights_or_data_sources, dtype: int64\n",
      "USED?    MannwhitneyuResult(statistic=2623.0, pvalue=0.86911277764939521)\n"
     ]
    }
   ],
   "source": [
    "print(USED.Edit_ranking_weights_or_data_sources.value_counts())\n",
    "print(\"USED?   \", \n",
    "      mannwhitneyu(USED.Trust[USED.Edit_ranking_weights_or_data_sources == 'Used'].dropna(), \n",
    "                   USED.Trust[USED.Edit_ranking_weights_or_data_sources == 'Not_Used'].dropna(),alternative='two-sided'))"
   ]
  },
  {
   "cell_type": "markdown",
   "metadata": {},
   "source": [
    "### Compare two rankings:"
   ]
  },
  {
   "cell_type": "code",
   "execution_count": 69,
   "metadata": {
    "collapsed": false
   },
   "outputs": [
    {
     "name": "stdout",
     "output_type": "stream",
     "text": [
      "Known       106\n",
      "Not_Know     39\n",
      "Name: Compare_two_rankings, dtype: int64\n",
      "KNOWN?    MannwhitneyuResult(statistic=2116.5, pvalue=0.82672637956292205)\n"
     ]
    }
   ],
   "source": [
    "print(KNOWN.Compare_two_rankings.value_counts())\n",
    "print(\"KNOWN?   \", \n",
    "      mannwhitneyu(KNOWN.Trust[KNOWN.Compare_two_rankings == 'Known'].dropna(),\n",
    "                   KNOWN.Trust[KNOWN.Compare_two_rankings == 'Not_Know'].dropna(),alternative='two-sided'))"
   ]
  },
  {
   "cell_type": "code",
   "execution_count": 70,
   "metadata": {
    "collapsed": false
   },
   "outputs": [
    {
     "name": "stdout",
     "output_type": "stream",
     "text": [
      "Not_Used    86\n",
      "Used        59\n",
      "Name: Compare_two_rankings, dtype: int64\n",
      "USED?    MannwhitneyuResult(statistic=3027.0, pvalue=0.048397650273875034)\n"
     ]
    }
   ],
   "source": [
    "print(USED.Compare_two_rankings.value_counts())\n",
    "print(\"USED?   \", \n",
    "      mannwhitneyu(USED.Trust[USED.Compare_two_rankings == 'Used'].dropna(),\n",
    "                   USED.Trust[USED.Compare_two_rankings == 'Not_Used'].dropna(),alternative='two-sided'))"
   ]
  },
  {
   "cell_type": "markdown",
   "metadata": {},
   "source": [
    "### Filter visible language types (eg. Web, Mobile):"
   ]
  },
  {
   "cell_type": "code",
   "execution_count": 71,
   "metadata": {
    "collapsed": false
   },
   "outputs": [
    {
     "name": "stdout",
     "output_type": "stream",
     "text": [
      "Known       136\n",
      "Not_Know     11\n",
      "Name: Filter_visible_language_types_WebMobile, dtype: int64\n",
      "KNOWN?    MannwhitneyuResult(statistic=776.5, pvalue=0.83636491481149777)\n"
     ]
    }
   ],
   "source": [
    "print(KNOWN.Filter_visible_language_types_WebMobile.value_counts())\n",
    "print(\"KNOWN?   \", \n",
    "      mannwhitneyu(KNOWN.Trust[KNOWN.Filter_visible_language_types_WebMobile == 'Known'].dropna(),\n",
    "                   KNOWN.Trust[KNOWN.Filter_visible_language_types_WebMobile == 'Not_Know'].dropna(),alternative='two-sided'))"
   ]
  },
  {
   "cell_type": "code",
   "execution_count": 72,
   "metadata": {
    "collapsed": false
   },
   "outputs": [
    {
     "name": "stdout",
     "output_type": "stream",
     "text": [
      "Used        113\n",
      "Not_Used     34\n",
      "Name: Filter_visible_language_types_WebMobile, dtype: int64\n",
      "USED?    MannwhitneyuResult(statistic=2004.0, pvalue=0.70413051259286075)\n"
     ]
    }
   ],
   "source": [
    "print(USED.Filter_visible_language_types_WebMobile.value_counts())\n",
    "print(\"USED?   \", \n",
    "      mannwhitneyu(USED.Trust[USED.Filter_visible_language_types_WebMobile == 'Used'].dropna(),\n",
    "                   USED.Trust[USED.Filter_visible_language_types_WebMobile == 'Not_Used'].dropna(),alternative='two-sided'))"
   ]
  },
  {
   "cell_type": "markdown",
   "metadata": {},
   "source": [
    "## Test effects of _knowing_ about and of _using_ each transparency feature on the user experience \"UX\":"
   ]
  },
  {
   "cell_type": "markdown",
   "metadata": {},
   "source": [
    "### Selecting weighting preset for ranking"
   ]
  },
  {
   "cell_type": "code",
   "execution_count": 73,
   "metadata": {
    "collapsed": false
   },
   "outputs": [
    {
     "name": "stdout",
     "output_type": "stream",
     "text": [
      "Known       128\n",
      "Not_Know     19\n",
      "Name: Select_weighting_preset_for_ranking, dtype: int64\n",
      "KNOWN?    MannwhitneyuResult(statistic=1360.5, pvalue=0.40492522490382399)\n"
     ]
    }
   ],
   "source": [
    "print(KNOWN.Select_weighting_preset_for_ranking.value_counts())\n",
    "print(\"KNOWN?   \", \n",
    "      mannwhitneyu(KNOWN.UX[KNOWN.Select_weighting_preset_for_ranking == 'Known'].dropna(),\n",
    "                   KNOWN.UX[KNOWN.Select_weighting_preset_for_ranking == 'Not_Know'].dropna(),alternative='two-sided'))"
   ]
  },
  {
   "cell_type": "code",
   "execution_count": 74,
   "metadata": {
    "collapsed": false
   },
   "outputs": [
    {
     "name": "stdout",
     "output_type": "stream",
     "text": [
      "Used        104\n",
      "Not_Used     43\n",
      "Name: Select_weighting_preset_for_ranking, dtype: int64\n",
      "USED?    MannwhitneyuResult(statistic=2429.0, pvalue=0.41161766918483145)\n"
     ]
    }
   ],
   "source": [
    "print(USED.Select_weighting_preset_for_ranking.value_counts())\n",
    "print(\"USED?   \", \n",
    "      mannwhitneyu(USED.UX[USED.Select_weighting_preset_for_ranking == 'Used'].dropna(),\n",
    "                   USED.UX[USED.Select_weighting_preset_for_ranking == 'Not_Used'].dropna(),alternative='two-sided'))"
   ]
  },
  {
   "cell_type": "markdown",
   "metadata": {},
   "source": [
    "### Edit Ranking Weights or Data Sources:"
   ]
  },
  {
   "cell_type": "code",
   "execution_count": 75,
   "metadata": {
    "collapsed": false
   },
   "outputs": [
    {
     "name": "stdout",
     "output_type": "stream",
     "text": [
      "Known       122\n",
      "Not_Know     25\n",
      "Name: Edit_ranking_weights_or_data_sources, dtype: int64\n",
      "KNOWN?    MannwhitneyuResult(statistic=1986.0, pvalue=0.01739881578669621)\n"
     ]
    }
   ],
   "source": [
    "print(KNOWN.Edit_ranking_weights_or_data_sources.value_counts())\n",
    "print(\"KNOWN?   \", \n",
    "      mannwhitneyu(KNOWN.UX[KNOWN.Edit_ranking_weights_or_data_sources == 'Known'].dropna(),\n",
    "                   KNOWN.UX[KNOWN.Edit_ranking_weights_or_data_sources == 'Not_Know'].dropna(),alternative='two-sided'))"
   ]
  },
  {
   "cell_type": "code",
   "execution_count": 76,
   "metadata": {
    "collapsed": false
   },
   "outputs": [
    {
     "name": "stdout",
     "output_type": "stream",
     "text": [
      "Not_Used    89\n",
      "Used        58\n",
      "Name: Edit_ranking_weights_or_data_sources, dtype: int64\n",
      "USED?    MannwhitneyuResult(statistic=2868.0, pvalue=0.2554088268851219)\n"
     ]
    }
   ],
   "source": [
    "print(USED.Edit_ranking_weights_or_data_sources.value_counts())\n",
    "print(\"USED?   \", \n",
    "      mannwhitneyu(USED.UX[USED.Edit_ranking_weights_or_data_sources == 'Used'].dropna(),\n",
    "                   USED.UX[USED.Edit_ranking_weights_or_data_sources == 'Not_Used'].dropna(),alternative='two-sided'))"
   ]
  },
  {
   "cell_type": "markdown",
   "metadata": {},
   "source": [
    "### Compare Two Rankings:"
   ]
  },
  {
   "cell_type": "code",
   "execution_count": 77,
   "metadata": {
    "collapsed": false
   },
   "outputs": [
    {
     "name": "stdout",
     "output_type": "stream",
     "text": [
      "Known       106\n",
      "Not_Know     39\n",
      "Name: Compare_two_rankings, dtype: int64\n",
      "KNOWN?    MannwhitneyuResult(statistic=2411.0, pvalue=0.12499182175894863)\n"
     ]
    }
   ],
   "source": [
    "print(KNOWN.Compare_two_rankings.value_counts())\n",
    "print(\"KNOWN?   \", \n",
    "      mannwhitneyu(KNOWN.UX[KNOWN.Compare_two_rankings == 'Known'].dropna(),\n",
    "                   KNOWN.UX[KNOWN.Compare_two_rankings == 'Not_Know'].dropna(),alternative='two-sided'))"
   ]
  },
  {
   "cell_type": "code",
   "execution_count": 78,
   "metadata": {
    "collapsed": false
   },
   "outputs": [
    {
     "name": "stdout",
     "output_type": "stream",
     "text": [
      "Not_Used    86\n",
      "Used        59\n",
      "Name: Compare_two_rankings, dtype: int64\n",
      "USED?    MannwhitneyuResult(statistic=3075.0, pvalue=0.030245615316389099)\n"
     ]
    }
   ],
   "source": [
    "print(USED.Compare_two_rankings.value_counts())\n",
    "print(\"USED?   \", \n",
    "      mannwhitneyu(USED.UX[USED.Compare_two_rankings == 'Used'].dropna(),\n",
    "                   USED.UX[USED.Compare_two_rankings == 'Not_Used'].dropna(),alternative='two-sided'))"
   ]
  },
  {
   "cell_type": "markdown",
   "metadata": {},
   "source": [
    "### Filter Visible Language Types (E.g. Mobile/Web)"
   ]
  },
  {
   "cell_type": "code",
   "execution_count": 79,
   "metadata": {
    "collapsed": false
   },
   "outputs": [
    {
     "name": "stdout",
     "output_type": "stream",
     "text": [
      "Known       136\n",
      "Not_Know     11\n",
      "Name: Filter_visible_language_types_WebMobile, dtype: int64\n",
      "KNOWN?    MannwhitneyuResult(statistic=883.5, pvalue=0.31947420261886994)\n"
     ]
    }
   ],
   "source": [
    "print(KNOWN.Filter_visible_language_types_WebMobile.value_counts())\n",
    "print(\"KNOWN?   \", \n",
    "      mannwhitneyu(KNOWN.UX[KNOWN.Filter_visible_language_types_WebMobile == 'Known'].dropna(),\n",
    "                   KNOWN.UX[KNOWN.Filter_visible_language_types_WebMobile == 'Not_Know'].dropna(),alternative='two-sided'))"
   ]
  },
  {
   "cell_type": "code",
   "execution_count": 80,
   "metadata": {
    "collapsed": false
   },
   "outputs": [
    {
     "name": "stdout",
     "output_type": "stream",
     "text": [
      "Used        113\n",
      "Not_Used     34\n",
      "Name: Filter_visible_language_types_WebMobile, dtype: int64\n",
      "USED?    MannwhitneyuResult(statistic=2023.5, pvalue=0.6388079262423032)\n"
     ]
    }
   ],
   "source": [
    "print(USED.Filter_visible_language_types_WebMobile.value_counts())\n",
    "print(\"USED?   \", \n",
    "      mannwhitneyu(USED.UX[USED.Filter_visible_language_types_WebMobile == 'Used'].dropna(),\n",
    "                   USED.UX[USED.Filter_visible_language_types_WebMobile == 'Not_Used'].dropna(),alternative='two-sided'))"
   ]
  },
  {
   "cell_type": "markdown",
   "metadata": {},
   "source": [
    "### Graphing just the significant effects:"
   ]
  },
  {
   "cell_type": "code",
   "execution_count": 81,
   "metadata": {
    "collapsed": false
   },
   "outputs": [
    {
     "name": "stderr",
     "output_type": "stream",
     "text": [
      "/Users/jenniferstark/anaconda/lib/python3.4/site-packages/matplotlib/__init__.py:892: UserWarning: axes.color_cycle is deprecated and replaced with axes.prop_cycle; please use the latter.\n",
      "  warnings.warn(self.msg_depr % (key, alt_key))\n"
     ]
    },
    {
     "data": {
      "image/png": "[encoded data removed]",
      "text/plain": [
       "<matplotlib.figure.Figure at 0x11e657e10>"
      ]
     },
     "metadata": {},
     "output_type": "display_data"
    }
   ],
   "source": [
    "palette1 = {'Used':'#164040', 'Not_Used':'#2B7F7F'}\n",
    "#palette2 = {'Known':'#164040','Not_Know':'#41BFBF'}\n",
    "\n",
    "def graphic2(df, y_var1, y_var2=None):\n",
    "    sns.set_context(\"poster\")\n",
    "    g = sns.PairGrid(df,\n",
    "                 x_vars=[#\"Edit_ranking_weights_or_data_sources\",],\n",
    "                         \"Compare_two_rankings\"],\n",
    "                 y_vars=[y_var1, y_var2],\n",
    "                 aspect=1, size=4)\n",
    "    g.map(sns.barplot,palette=palette1, order=['Used', 'Not_Used'])\n",
    "    #g.savefig('Trust_and_UX_USED.png')\n",
    "\n",
    "graphic2(USED, \"Trust\", \"UX\")"
   ]
  }
 ],
 "metadata": {
  "kernelspec": {
   "display_name": "Python 3",
   "language": "python",
   "name": "python3"
  },
  "language_info": {
   "codemirror_mode": {
    "name": "ipython",
    "version": 3
   },
   "file_extension": ".py",
   "mimetype": "text/x-python",
   "name": "python",
   "nbconvert_exporter": "python",
   "pygments_lexer": "ipython3",
   "version": "3.4.5"
  }
 },
 "nbformat": 4,
 "nbformat_minor": 0
}
